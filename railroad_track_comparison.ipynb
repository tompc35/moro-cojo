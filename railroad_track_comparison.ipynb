{
 "cells": [
  {
   "cell_type": "markdown",
   "metadata": {},
   "source": [
    "# Comparison of water levels – Highway 1 vs. Railroad tracks"
   ]
  },
  {
   "cell_type": "code",
   "execution_count": 1,
   "metadata": {},
   "outputs": [],
   "source": [
    "%matplotlib ipympl\n",
    "\n",
    "import numpy as np\n",
    "from matplotlib import pyplot as plt\n",
    "import pandas as pd\n",
    "import os\n",
    "import matplotlib.dates as mdates\n",
    "from physoce import tseries as ts\n",
    "\n",
    "from physoce_obs import noaatide\n",
    "from data_paths import water_level_path, tide_gauge_path"
   ]
  },
  {
   "cell_type": "markdown",
   "metadata": {},
   "source": [
    "## Load data\n",
    "\n",
    "### Lower slough"
   ]
  },
  {
   "cell_type": "code",
   "execution_count": 2,
   "metadata": {},
   "outputs": [],
   "source": [
    "# Load NOAA tide gauge data set\n",
    "tg = noaatide.csv_to_dataframe(tide_gauge_path(),\n",
    "                      pattern='*.csv')"
   ]
  },
  {
   "cell_type": "code",
   "execution_count": 3,
   "metadata": {},
   "outputs": [],
   "source": [
    "lower_slough_path = os.path.join(water_level_path(),'Lower slough/')"
   ]
  },
  {
   "cell_type": "code",
   "execution_count": 4,
   "metadata": {},
   "outputs": [],
   "source": [
    "def process_troll(csv_file,tg,mindepth=40):\n",
    "    '''\n",
    "    Load data from Rugged Troll into Pandas dataframe, and match with Monterey tide gauge.\n",
    "    \n",
    "    INPUTS\n",
    "    csvfile - full path to csv file\n",
    "    mindepth - Exclude data from below this depth as times out of water (default 40 cm)\n",
    "    \n",
    "    OUTPUT\n",
    "    Pandas dataframe. h is the water level in Moro Cojo, hocn is the water level in Monterey Bay\n",
    "    '''\n",
    "\n",
    "    df = pd.read_csv(csv_file,skiprows=75,parse_dates=[0],\n",
    "                     names=['DateTime','Seconds','Pressure_PSI','Temp_C','Depth_cm'],\n",
    "                    usecols=range(5))\n",
    "\n",
    "    goodi = df['Depth_cm'] > mindepth # trim parts out of water\n",
    "    df = df.loc[goodi]\n",
    "    df.set_index(df['DateTime'],inplace=True,drop=False)\n",
    "\n",
    "    df['h'] = df['Depth_cm']/100\n",
    "    \n",
    "    deltat = np.diff(df.index)/np.timedelta64(1,'s') # sampling interval in seconds\n",
    "    df['dhdt'] = np.gradient(df['h'].rolling(4).mean(),deltat[0]) # time derivative of water level (m/s)\n",
    "\n",
    "    df['hocn'] = tg['Water Level']\n",
    "    df['hocn'] = df['hocn'].interpolate(limit=int(np.round(3600/deltat[0])))\n",
    "\n",
    "    return df"
   ]
  },
  {
   "cell_type": "code",
   "execution_count": 5,
   "metadata": {},
   "outputs": [],
   "source": [
    "ds = dict()\n",
    "\n",
    "csv_file = os.path.join(lower_slough_path,'Moro Cojo Fall 2015_2015-12-14_13-49-50-340.csv')\n",
    "ds['Fall_2015'] = process_troll(csv_file,tg)\n",
    "\n",
    "csv_file = os.path.join(lower_slough_path,'Spring 2016 - Moro Cojo_2016-05-31_14-59-30-328.csv')\n",
    "ds['Spring_2016'] = process_troll(csv_file,tg)"
   ]
  },
  {
   "cell_type": "code",
   "execution_count": 6,
   "metadata": {},
   "outputs": [],
   "source": [
    "csv_file = os.path.join(lower_slough_path,'2017-2018_2018-01-23_16-04-48-936.csv')\n",
    "ds['Fall_2017'] = process_troll(csv_file,tg,mindepth=8)\n",
    "\n",
    "ii = (ds['Fall_2017'].index > np.datetime64('2017-10-25')) & (ds['Fall_2017'].index <= np.datetime64('2018-01-22'))\n",
    "ds['Fall_2017'] = ds['Fall_2017'].loc[ii]"
   ]
  },
  {
   "cell_type": "markdown",
   "metadata": {},
   "source": [
    "### Railroad tracks"
   ]
  },
  {
   "cell_type": "code",
   "execution_count": 7,
   "metadata": {},
   "outputs": [],
   "source": [
    "xls_dir = '/Users/tomconnolly/work/Data/Moro_Cojo/RailroadTrack_Elevation/'\n",
    "xls_filename = '15-064_Water Level Data_Moro Cojo Slough at RR Tracks_for CCWG_10-15-18.xlsx'"
   ]
  },
  {
   "cell_type": "code",
   "execution_count": 8,
   "metadata": {},
   "outputs": [],
   "source": [
    "xls_path = os.path.join(xls_dir,xls_filename)"
   ]
  },
  {
   "cell_type": "code",
   "execution_count": 9,
   "metadata": {},
   "outputs": [],
   "source": [
    "sheets_list = ['15-064_ 2-1-17 to 7-23-17',\n",
    "              '10-23-17 to 1-10-18',\n",
    "              '1-10-18 to 3-13-18']"
   ]
  },
  {
   "cell_type": "code",
   "execution_count": 10,
   "metadata": {},
   "outputs": [],
   "source": [
    "df1 = pd.read_excel(xls_path,sheets_list[0],\n",
    "                    header=69,\n",
    "                    usecols='A:E,H,J,O')\n",
    "df1 = df1.rename(columns={'Unnamed: 7': 'Elevation NAVD (feet)'})\n",
    "\n",
    "df1 = df1.loc[df1['Date and Time'] >= np.datetime64('2017-02-01 13:00')]"
   ]
  },
  {
   "cell_type": "code",
   "execution_count": 11,
   "metadata": {},
   "outputs": [],
   "source": [
    "df2 = pd.read_excel(xls_path,sheets_list[1],\n",
    "                    header=71,\n",
    "                    usecols='A:E,H:J')\n",
    "df2 = df2.rename(columns={'Unnamed: 7': 'Elevation NAVD (feet)'})\n",
    "df2 = df2.loc[(df2['Date and Time'] >= np.datetime64('2017-10-24 15:00'))\n",
    "            & (df2['Date and Time'] <= np.datetime64('2018-01-10 10:00'))]"
   ]
  },
  {
   "cell_type": "code",
   "execution_count": 12,
   "metadata": {},
   "outputs": [],
   "source": [
    "df3 = pd.read_excel(xls_path,sheets_list[2],\n",
    "                    header=144,\n",
    "                    usecols='A:E,I,K,M')\n",
    "df3 = df3.rename(columns={'Unnamed: 5': 'Depth (Inches)',\n",
    "                    'Unnamed: 6': 'Depth (feet)',\n",
    "                    'Unnamed: 7': 'Elevation NAVD (feet)'})\n",
    "df3 = df3.loc[(df3['Date and Time'] >= np.datetime64('2018-01-10 13:00'))\n",
    "            & (df3['Date and Time'] <= np.datetime64('2018-03-12 10:00'))]"
   ]
  },
  {
   "cell_type": "code",
   "execution_count": 13,
   "metadata": {},
   "outputs": [],
   "source": [
    "df = pd.concat([df2,df3],sort=True)\n",
    "df = df.set_index('Date and Time')\n",
    "df = df.loc[(df.index >= ds['Fall_2017'].index[0])\n",
    "            & (df.index <= ds['Fall_2017'].index[-1])]"
   ]
  },
  {
   "cell_type": "markdown",
   "metadata": {},
   "source": [
    "### Plots - railroad tracks"
   ]
  },
  {
   "cell_type": "code",
   "execution_count": 14,
   "metadata": {},
   "outputs": [
    {
     "data": {
      "application/vnd.jupyter.widget-view+json": {
       "model_id": "97dc205ba2cd4f50bd337aa02fef590f",
       "version_major": 2,
       "version_minor": 0
      },
      "text/plain": [
       "Canvas(toolbar=Toolbar(toolitems=[('Home', 'Reset original view', 'home', 'home'), ('Back', 'Back to previous …"
      ]
     },
     "metadata": {},
     "output_type": "display_data"
    },
    {
     "data": {
      "text/plain": [
       "[<matplotlib.lines.Line2D at 0x1c1b26c4a8>]"
      ]
     },
     "execution_count": 14,
     "metadata": {},
     "output_type": "execute_result"
    }
   ],
   "source": [
    "plt.figure()\n",
    "plt.plot(df1['Date and Time'],df1['Elevation NAVD (feet)'])\n",
    "plt.plot(df2['Date and Time'],df2['Elevation NAVD (feet)'])\n",
    "plt.plot(df3['Date and Time'],df3['Elevation NAVD (feet)'])"
   ]
  },
  {
   "cell_type": "markdown",
   "metadata": {},
   "source": [
    "### Lower slough"
   ]
  },
  {
   "cell_type": "code",
   "execution_count": 15,
   "metadata": {},
   "outputs": [
    {
     "data": {
      "application/vnd.jupyter.widget-view+json": {
       "model_id": "f7a652594e794676ba6ef691cd7c0d02",
       "version_major": 2,
       "version_minor": 0
      },
      "text/plain": [
       "Canvas(toolbar=Toolbar(toolitems=[('Home', 'Reset original view', 'home', 'home'), ('Back', 'Back to previous …"
      ]
     },
     "metadata": {},
     "output_type": "display_data"
    },
    {
     "data": {
      "application/vnd.jupyter.widget-view+json": {
       "model_id": "fd4e609d21ff41b5a175981c401212b8",
       "version_major": 2,
       "version_minor": 0
      },
      "text/plain": [
       "Canvas(toolbar=Toolbar(toolitems=[('Home', 'Reset original view', 'home', 'home'), ('Back', 'Back to previous …"
      ]
     },
     "metadata": {},
     "output_type": "display_data"
    },
    {
     "data": {
      "application/vnd.jupyter.widget-view+json": {
       "model_id": "7d2d009ae41f4fe387dce47467711a1e",
       "version_major": 2,
       "version_minor": 0
      },
      "text/plain": [
       "Canvas(toolbar=Toolbar(toolitems=[('Home', 'Reset original view', 'home', 'home'), ('Back', 'Back to previous …"
      ]
     },
     "metadata": {},
     "output_type": "display_data"
    }
   ],
   "source": [
    "all_per = ['Fall_2015','Spring_2016','Fall_2017']\n",
    "\n",
    "for per in all_per:\n",
    "    dsp = ds[per]\n",
    "    \n",
    "    plt.figure(figsize=[8,4])\n",
    "    plt.plot(dsp.index,dsp['h'],'-')"
   ]
  },
  {
   "cell_type": "markdown",
   "metadata": {},
   "source": [
    "### Combined - railroad tracks, lower slough, Monterey Bay\n",
    "\n",
    "Data at the Railroad tracks (from Shawn Ryan) were compared with data from the lower slough near Highway 1. There is overlap of data during late 2017 – early 2018."
   ]
  },
  {
   "cell_type": "code",
   "execution_count": 16,
   "metadata": {},
   "outputs": [
    {
     "data": {
      "application/vnd.jupyter.widget-view+json": {
       "model_id": "e7765fd9dc25405bb0d8e0d4e4831947",
       "version_major": 2,
       "version_minor": 0
      },
      "text/plain": [
       "Canvas(toolbar=Toolbar(toolitems=[('Home', 'Reset original view', 'home', 'home'), ('Back', 'Back to previous …"
      ]
     },
     "metadata": {},
     "output_type": "display_data"
    },
    {
     "name": "stderr",
     "output_type": "stream",
     "text": [
      "/Users/tomconnolly/programs/anaconda/envs/py37/lib/python3.7/site-packages/scipy/signal/signaltools.py:491: FutureWarning: Using a non-tuple sequence for multidimensional indexing is deprecated; use `arr[tuple(seq)]` instead of `arr[seq]`. In the future this will be interpreted as an array index, `arr[np.array(seq)]`, which will result either in an error or a different result.\n",
      "  return x[reverse].conj()\n",
      "/Users/tomconnolly/programs/anaconda/envs/py37/lib/python3.7/site-packages/scipy/signal/signaltools.py:251: FutureWarning: Using a non-tuple sequence for multidimensional indexing is deprecated; use `arr[tuple(seq)]` instead of `arr[seq]`. In the future this will be interpreted as an array index, `arr[np.array(seq)]`, which will result either in an error or a different result.\n",
      "  in1zpadded[sc] = in1.copy()\n"
     ]
    },
    {
     "data": {
      "text/plain": [
       "Text(0, 0.5, 'water level [m]')"
      ]
     },
     "execution_count": 16,
     "metadata": {},
     "output_type": "execute_result"
    }
   ],
   "source": [
    "per = 'Fall_2017'\n",
    "\n",
    "plt.figure(figsize=[6,4])\n",
    "plt.plot(ds[per].index,ds[per]['hocn'],'-',color='gray')\n",
    "plt.plot(ds[per].index,ts.pl66(ds[per]['hocn'],dt=1/4),'-',color='k')\n",
    "plt.plot(ds[per].index,ds[per]['h'],'-')\n",
    "plt.plot(df.index,df['Elevation NAVD (feet)']*0.3048,'r-')\n",
    "plt.xlim([ds[per].index[0],ds[per].index[-1]])\n",
    "plt.xticks(['2017-11','2017-12','2018-01'])\n",
    "plt.gca().xaxis.set_major_formatter(mdates.DateFormatter('%Y-%m'))\n",
    "plt.legend(['Monterey hourly','Monterey filtered','Hwy 1','RR Tracks'],loc='upper left')\n",
    "plt.ylabel('water level [m]')\n",
    "\n",
    "#plt.gca().minorticks_off()\n",
    "#plt.xticks(rotation=30)\n"
   ]
  },
  {
   "cell_type": "code",
   "execution_count": 17,
   "metadata": {},
   "outputs": [
    {
     "data": {
      "application/vnd.jupyter.widget-view+json": {
       "model_id": "d8abb07b11b04c759dbd91ec589c243d",
       "version_major": 2,
       "version_minor": 0
      },
      "text/plain": [
       "Canvas(toolbar=Toolbar(toolitems=[('Home', 'Reset original view', 'home', 'home'), ('Back', 'Back to previous …"
      ]
     },
     "metadata": {},
     "output_type": "display_data"
    },
    {
     "data": {
      "text/plain": [
       "Text(0, 0.5, 'water level [m]')"
      ]
     },
     "execution_count": 17,
     "metadata": {},
     "output_type": "execute_result"
    }
   ],
   "source": [
    "plt.figure(figsize=[6,4])\n",
    "plt.plot(ds[per].index,ds[per]['h'],'-')\n",
    "#plt.plot(ds[per].index,ds[per]['hocn'],'-',color='gray')\n",
    "plt.plot(df.index,df['Elevation NAVD (feet)']*0.3048,'r-')\n",
    "plt.xlim([ds[per].index[0],ds[per].index[-1]])\n",
    "plt.xticks(['2017-11','2017-12','2018-01'])\n",
    "plt.gca().xaxis.set_major_formatter(mdates.DateFormatter('%Y-%m'))\n",
    "plt.legend(['Hwy 1','RR Tracks'],loc='upper left')\n",
    "plt.ylabel('water level [m]')\n"
   ]
  },
  {
   "cell_type": "markdown",
   "metadata": {},
   "source": [
    "Comparing these data sets, the water level at Highway 1 is typically lower than the Railroad tracks during spring tides, when the lower low tides cause water to flow out of the slough. During neap tides, after there has been inflow into the slough, the water levels at the two sites tend to equilibrate.\n",
    "\n",
    "Low-pass filtering the Monterey Bay water levels (to remove tidal fluctuations) shows that there is an event when high water levels in Monterey Bay coincide with a neap tide. This is associated with the highest water levels at both sites during this time period."
   ]
  },
  {
   "cell_type": "code",
   "execution_count": 23,
   "metadata": {},
   "outputs": [],
   "source": [
    "ds[per] = ds[per].loc[~ds[per].index.duplicated()]\n",
    "df = df.loc[~df.index.duplicated()]\n",
    "df['h'] = ds[per]['h']"
   ]
  },
  {
   "cell_type": "code",
   "execution_count": 24,
   "metadata": {},
   "outputs": [
    {
     "data": {
      "application/vnd.jupyter.widget-view+json": {
       "model_id": "5d9cfdd19d674212b30e21d099ec6e9b",
       "version_major": 2,
       "version_minor": 0
      },
      "text/plain": [
       "Canvas(toolbar=Toolbar(toolitems=[('Home', 'Reset original view', 'home', 'home'), ('Back', 'Back to previous …"
      ]
     },
     "metadata": {},
     "output_type": "display_data"
    },
    {
     "data": {
      "text/plain": [
       "Text(0, 0.5, 'RR Tracks water level [m] - NAVD')"
      ]
     },
     "execution_count": 24,
     "metadata": {},
     "output_type": "execute_result"
    }
   ],
   "source": [
    "plt.figure()\n",
    "plt.plot(df['h'],df['Elevation NAVD (feet)']*0.3048,'.')\n",
    "plt.plot([0.2,0.6],[0.2,0.6],'k--')\n",
    "plt.xlabel('Hwy 1 water level [m]')\n",
    "plt.ylabel('RR Tracks water level [m] - NAVD')"
   ]
  },
  {
   "cell_type": "code",
   "execution_count": null,
   "metadata": {},
   "outputs": [],
   "source": []
  }
 ],
 "metadata": {
  "kernelspec": {
   "display_name": "Python [conda env:py37]",
   "language": "python",
   "name": "conda-env-py37-py"
  },
  "language_info": {
   "codemirror_mode": {
    "name": "ipython",
    "version": 3
   },
   "file_extension": ".py",
   "mimetype": "text/x-python",
   "name": "python",
   "nbconvert_exporter": "python",
   "pygments_lexer": "ipython3",
   "version": "3.7.2"
  }
 },
 "nbformat": 4,
 "nbformat_minor": 4
}
