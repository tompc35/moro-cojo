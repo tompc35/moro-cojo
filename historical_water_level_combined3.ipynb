{
 "cells": [
  {
   "cell_type": "code",
   "execution_count": 1,
   "metadata": {},
   "outputs": [],
   "source": [
    "%matplotlib ipympl\n",
    "import numpy as np\n",
    "import matplotlib.pyplot as plt\n",
    "import pandas as pd\n",
    "from scipy import stats\n",
    "from scipy.integrate import odeint\n",
    "from scipy.optimize import curve_fit\n",
    "import os.path\n",
    "from physoce import tseries as ts\n",
    "from physoce_obs import noaatide\n",
    "from data_paths import water_level_path, tide_gauge_path"
   ]
  },
  {
   "cell_type": "code",
   "execution_count": 2,
   "metadata": {},
   "outputs": [],
   "source": [
    "# Load NOAA tide gauge data set\n",
    "tg = noaatide.csv_to_dataframe(tide_gauge_path(),\n",
    "                      pattern='*.csv')"
   ]
  },
  {
   "cell_type": "code",
   "execution_count": 3,
   "metadata": {},
   "outputs": [
    {
     "data": {
      "text/html": [
       "<div>\n",
       "<style scoped>\n",
       "    .dataframe tbody tr th:only-of-type {\n",
       "        vertical-align: middle;\n",
       "    }\n",
       "\n",
       "    .dataframe tbody tr th {\n",
       "        vertical-align: top;\n",
       "    }\n",
       "\n",
       "    .dataframe thead th {\n",
       "        text-align: right;\n",
       "    }\n",
       "</style>\n",
       "<table border=\"1\" class=\"dataframe\">\n",
       "  <thead>\n",
       "    <tr style=\"text-align: right;\">\n",
       "      <th></th>\n",
       "      <th>DateTime_sensor</th>\n",
       "      <th>h_ngvd29</th>\n",
       "      <th>DateTime</th>\n",
       "    </tr>\n",
       "    <tr>\n",
       "      <th>DateTime</th>\n",
       "      <th></th>\n",
       "      <th></th>\n",
       "      <th></th>\n",
       "    </tr>\n",
       "  </thead>\n",
       "  <tbody>\n",
       "    <tr>\n",
       "      <th>2014-12-18 11:14:00</th>\n",
       "      <td>2014-12-18 12:14:00</td>\n",
       "      <td>NaN</td>\n",
       "      <td>2014-12-18 11:14:00</td>\n",
       "    </tr>\n",
       "    <tr>\n",
       "      <th>2014-12-18 11:29:00</th>\n",
       "      <td>2014-12-18 12:29:00</td>\n",
       "      <td>NaN</td>\n",
       "      <td>2014-12-18 11:29:00</td>\n",
       "    </tr>\n",
       "    <tr>\n",
       "      <th>2014-12-18 11:44:00</th>\n",
       "      <td>2014-12-18 12:44:00</td>\n",
       "      <td>NaN</td>\n",
       "      <td>2014-12-18 11:44:00</td>\n",
       "    </tr>\n",
       "    <tr>\n",
       "      <th>2014-12-18 11:59:00</th>\n",
       "      <td>2014-12-18 12:59:00</td>\n",
       "      <td>NaN</td>\n",
       "      <td>2014-12-18 11:59:00</td>\n",
       "    </tr>\n",
       "    <tr>\n",
       "      <th>2014-12-18 12:14:00</th>\n",
       "      <td>2014-12-18 13:14:00</td>\n",
       "      <td>NaN</td>\n",
       "      <td>2014-12-18 12:14:00</td>\n",
       "    </tr>\n",
       "  </tbody>\n",
       "</table>\n",
       "</div>"
      ],
      "text/plain": [
       "                        DateTime_sensor  h_ngvd29            DateTime\n",
       "DateTime                                                             \n",
       "2014-12-18 11:14:00 2014-12-18 12:14:00       NaN 2014-12-18 11:14:00\n",
       "2014-12-18 11:29:00 2014-12-18 12:29:00       NaN 2014-12-18 11:29:00\n",
       "2014-12-18 11:44:00 2014-12-18 12:44:00       NaN 2014-12-18 11:44:00\n",
       "2014-12-18 11:59:00 2014-12-18 12:59:00       NaN 2014-12-18 11:59:00\n",
       "2014-12-18 12:14:00 2014-12-18 13:14:00       NaN 2014-12-18 12:14:00"
      ]
     },
     "execution_count": 3,
     "metadata": {},
     "output_type": "execute_result"
    }
   ],
   "source": [
    "combined_file = os.path.join(water_level_path(),'Ross_waterlevel_data_combine_time_series.csv')\n",
    "df = pd.read_csv(combined_file,usecols=[0,3],parse_dates=[0],names=['DateTime_sensor','h_ngvd29'],skiprows=1)\n",
    "\n",
    "# adjust from PDT to PST where necessary\n",
    "# manually found deployments that start in Daylight Savings Time\n",
    "dtime_sensor = np.array(df['DateTime_sensor'])\n",
    "dsi, = np.where(dtime_sensor < np.datetime64('2016-01-01 00:00')) \n",
    "dtime_sensor[dsi] = dtime_sensor[dsi] - np.timedelta64(1,'h')\n",
    "dsi, = np.where((dtime_sensor > np.datetime64('2017-10-10 00:00')) & \n",
    "                (dtime_sensor < np.datetime64('2017-11-03 00:00'))) \n",
    "dtime_sensor[dsi] = dtime_sensor[dsi] - np.timedelta64(1,'h')\n",
    "df['DateTime'] = dtime_sensor\n",
    "\n",
    "df.set_index(df['DateTime'],inplace=True,drop=False)\n",
    "df.head()"
   ]
  },
  {
   "cell_type": "code",
   "execution_count": 4,
   "metadata": {},
   "outputs": [
    {
     "name": "stderr",
     "output_type": "stream",
     "text": [
      "/Users/tomconnolly/programs/anaconda/envs/py37/lib/python3.7/site-packages/ipykernel/__main__.py:63: RuntimeWarning: invalid value encountered in greater\n"
     ]
    }
   ],
   "source": [
    "df['h_ngvd29'] = df['h_ngvd29'].mask(df.index<np.datetime64('1700-01-01'))\n",
    "df['h'] = df['h_ngvd29'] + 0.831 # 0.831 conversion to NGVD https://www.ngs.noaa.gov/cgi-bin/VERTCON/vert_con.prl\n",
    "                                # 0.2 extra adjustment based on water level difference\n",
    "\n",
    "ttime = (np.array(tg.index)-np.datetime64('1970-01-01 00:00'))/np.timedelta64(1,'D')\n",
    "mctime = (np.array(df.index)-np.datetime64('1970-01-01 00:00'))/np.timedelta64(1,'D')\n",
    "\n",
    "df['hocn'] = np.interp(mctime,ttime,np.array(tg['Water Level']))\n",
    "\n",
    "deltat = np.diff(df.index)/np.timedelta64(1,'s') # sampling interval in seconds\n",
    "\n",
    "hf = np.array(df['h'].rolling(3).mean())\n",
    "dhdt = np.nan*np.ones(len(df['h']))\n",
    "dhdt[1:-1] = (hf[2:]-hf[:-2])/deltat[0:-1]\n",
    "df['dhdt'] = dhdt # time derivative of water level (m/s)\n",
    "\n",
    "df['delta_h'] = df['hocn']-df['h']\n",
    "\n",
    "### Read in the flow data ###\n",
    "col_names =  ['Sample','year','month','day','hour','minute','second','Stage','Area','Vx','VMean','Flow','Total Volume']\n",
    "\n",
    "flowfile1 = \"Data/ADCPData/ADCP_deployment_6_13_6_16/MC006005.txt\"\n",
    "flowdf1 = pd.read_table(flowfile1,header=18,delim_whitespace=True,usecols=range(13),names=col_names)\n",
    "\n",
    "flowfile2 = \"Data/ADCPData/ADCPdeplyment_6_20_7_7/MC006009.txt\"\n",
    "flowdf2 = pd.read_table(flowfile2,header=18,delim_whitespace=True,usecols=range(13),names=col_names)\n",
    "\n",
    "flowdf1 = flowdf1.set_index(pd.DatetimeIndex(pd.to_datetime(flowdf1[['year','month','day','hour','minute','second']])))\n",
    "flowdf2 = flowdf2.set_index(pd.DatetimeIndex(pd.to_datetime(flowdf2[['year','month','day','hour','minute','second']])))\n",
    "\n",
    "# combine data sets\n",
    "flowdf = flowdf1.append(flowdf2)\n",
    "flowdf = flowdf.resample('15min').mean()\n",
    "\n",
    "### Read in the water level data ###\n",
    "\n",
    "\n",
    "wlfile1 = 'Data/WaterLevelData/wlJune.txt'\n",
    "wlfile2 = 'Data/WaterLevelData/wlJuly.txt'\n",
    "wldf1 = pd.read_table(wlfile1)\n",
    "wldf2 = pd.read_table(wlfile2)\n",
    "wldf1 = wldf1.set_index(pd.to_datetime(wldf1['Date Time'] + ' ' + wldf1['Date Time.1']))\n",
    "wldf2 = wldf2.set_index(pd.to_datetime(wldf2['Date Time'] + ' ' + wldf2['Date Time.1']))\n",
    "\n",
    "wldf = wldf1.append(wldf2)\n",
    "wldf = wldf.resample('15min').mean()\n",
    "\n",
    "df15 = pd.concat([wldf, flowdf], axis=1)\n",
    "\n",
    "d = dict()\n",
    "d['dtime'] = np.array(df15.index)\n",
    "d['h'] = np.array(df15['Stage'])\n",
    "d['hocn'] = np.array(df15[' Water Level'])\n",
    "d['Q'] = np.array(df15['Flow'])*2 # does Q need to be doubled?\n",
    "\n",
    "dt = np.timedelta64(d['dtime'][1]-d['dtime'][0],'s')\n",
    "d['dt'] = dt/np.timedelta64(1,'s')\n",
    "\n",
    "# despike ADCP stage data\n",
    "hdiff = np.diff(d['h'])\n",
    "hdiffz = (hdiff-np.nanmean(hdiff))/np.nanstd(hdiff)\n",
    "\n",
    "ihspike, = np.where((np.abs(hdiffz[:-1])>3.))\n",
    "ihspike = ihspike+1\n",
    "d['h'][ihspike] = np.nan\n",
    "\n",
    "# water level time derivative\n",
    "d['dhdt'] = np.nan*d['h']\n",
    "d['dhdt'][1:-1] = 0.5*(d['h'][2:]-d['h'][:-2])/d['dt']\n",
    "\n",
    "d['delta_h'] = d['hocn']-d['h']+0.75\n",
    "\n",
    "# running standard deviation (2-day)\n",
    "winlen = int(2*86400/d['dt'])\n",
    "d['hocn_std'] = np.array(df15[' Water Level'].rolling(window=winlen).std())"
   ]
  },
  {
   "cell_type": "code",
   "execution_count": 5,
   "metadata": {},
   "outputs": [
    {
     "data": {
      "application/vnd.jupyter.widget-view+json": {
       "model_id": "e2158b5d5e7e4371b97e8898cee73e24",
       "version_major": 2,
       "version_minor": 0
      },
      "text/plain": [
       "Canvas(toolbar=Toolbar(toolitems=[('Home', 'Reset original view', 'home', 'home'), ('Back', 'Back to previous …"
      ]
     },
     "metadata": {},
     "output_type": "display_data"
    }
   ],
   "source": [
    "plt.figure(figsize=(8,4))\n",
    "plt.plot(df.index,df['hocn'],'-')\n",
    "plt.plot(df.index,df['h'],'-')\n",
    "plt.xticks(rotation=30)\n",
    "plt.ylabel('[m] NAVD 88')\n",
    "plt.tight_layout()\n",
    "\n",
    "#plt.plot(tg.index,tg['Water Level'])"
   ]
  },
  {
   "cell_type": "code",
   "execution_count": 6,
   "metadata": {},
   "outputs": [
    {
     "data": {
      "application/vnd.jupyter.widget-view+json": {
       "model_id": "96c6ca3b4b8e4e529fe9e31577be6ed0",
       "version_major": 2,
       "version_minor": 0
      },
      "text/plain": [
       "Canvas(toolbar=Toolbar(toolitems=[('Home', 'Reset original view', 'home', 'home'), ('Back', 'Back to previous …"
      ]
     },
     "metadata": {},
     "output_type": "display_data"
    },
    {
     "data": {
      "text/plain": [
       "Text(0.5, 0, '$\\\\Delta h$')"
      ]
     },
     "execution_count": 6,
     "metadata": {},
     "output_type": "execute_result"
    }
   ],
   "source": [
    "plt.figure()\n",
    "#plt.plot(df['hocn']-df['h'],ts.hanning(df['dhdt'],8),'.')\n",
    "plt.plot(df['hocn']-df['h'],df['dhdt'],'.')\n",
    "plt.ylabel('dh/dt')\n",
    "plt.xlabel('$\\Delta h$')"
   ]
  },
  {
   "cell_type": "code",
   "execution_count": 7,
   "metadata": {},
   "outputs": [],
   "source": [
    "repair_date = np.datetime64('2016-01-12')"
   ]
  },
  {
   "cell_type": "code",
   "execution_count": 8,
   "metadata": {},
   "outputs": [],
   "source": [
    "#initiali, = np.where(df['DateTime'] < np.datetime64('2015-09-14'))\n",
    "initiali, = np.where(df['DateTime'] < np.datetime64('2015-06-14'))\n",
    "\n",
    "\n",
    "beforei, = np.where(df['DateTime'] < repair_date)\n",
    "afteri, = np.where(df['DateTime'] > repair_date)"
   ]
  },
  {
   "cell_type": "code",
   "execution_count": 9,
   "metadata": {},
   "outputs": [
    {
     "data": {
      "application/vnd.jupyter.widget-view+json": {
       "model_id": "31001a2049c74da692c895f8e73041fd",
       "version_major": 2,
       "version_minor": 0
      },
      "text/plain": [
       "Canvas(toolbar=Toolbar(toolitems=[('Home', 'Reset original view', 'home', 'home'), ('Back', 'Back to previous …"
      ]
     },
     "metadata": {},
     "output_type": "display_data"
    }
   ],
   "source": [
    "plt.figure()\n",
    "#plt.plot(df['hocn']-df['h'],ts.hanning(df['dhdt'],8),'.')\n",
    "plt.plot(df['hocn'][initiali]-df['h'][initiali],df['dhdt'][initiali],'b.')\n",
    "plt.ylabel('dh/dt [m/day]')\n",
    "plt.xlabel('$\\Delta h$ [m]')\n",
    "plt.legend(['before','after'])\n",
    "plt.tight_layout()"
   ]
  },
  {
   "cell_type": "code",
   "execution_count": 10,
   "metadata": {},
   "outputs": [
    {
     "data": {
      "application/vnd.jupyter.widget-view+json": {
       "model_id": "0b63ce54128043cf8060acb83f34fc5a",
       "version_major": 2,
       "version_minor": 0
      },
      "text/plain": [
       "Canvas(toolbar=Toolbar(toolitems=[('Home', 'Reset original view', 'home', 'home'), ('Back', 'Back to previous …"
      ]
     },
     "metadata": {},
     "output_type": "display_data"
    }
   ],
   "source": [
    "plt.figure()\n",
    "#plt.plot(df['hocn']-df['h'],ts.hanning(df['dhdt'],8),'.')\n",
    "plt.plot(df['hocn'][beforei]-df['h'][beforei],df['dhdt'][beforei]*86400,'b.')\n",
    "plt.plot(df['hocn'][afteri]-df['h'][afteri],df['dhdt'][afteri]*86400,'r.')\n",
    "plt.ylabel('dh/dt [m/day]')\n",
    "plt.xlabel('$\\Delta h$ [m]')\n",
    "plt.legend(['before','after'])\n",
    "plt.tight_layout()"
   ]
  },
  {
   "cell_type": "code",
   "execution_count": 11,
   "metadata": {},
   "outputs": [],
   "source": [
    "# bin average by delta_h"
   ]
  },
  {
   "cell_type": "code",
   "execution_count": 12,
   "metadata": {},
   "outputs": [
    {
     "name": "stderr",
     "output_type": "stream",
     "text": [
      "/Users/tomconnolly/programs/anaconda/envs/py37/lib/python3.7/site-packages/ipykernel/__main__.py:21: RuntimeWarning: Mean of empty slice\n",
      "/Users/tomconnolly/programs/anaconda/envs/py37/lib/python3.7/site-packages/numpy/lib/nanfunctions.py:1545: RuntimeWarning: Degrees of freedom <= 0 for slice.\n",
      "  keepdims=keepdims)\n",
      "/Users/tomconnolly/programs/anaconda/envs/py37/lib/python3.7/site-packages/ipykernel/__main__.py:24: RuntimeWarning: invalid value encountered in greater\n",
      "/Users/tomconnolly/programs/anaconda/envs/py37/lib/python3.7/site-packages/ipykernel/__main__.py:24: RuntimeWarning: invalid value encountered in less\n",
      "/Users/tomconnolly/programs/anaconda/envs/py37/lib/python3.7/site-packages/ipykernel/__main__.py:25: RuntimeWarning: Mean of empty slice\n",
      "/Users/tomconnolly/programs/anaconda/envs/py37/lib/python3.7/site-packages/ipykernel/__main__.py:29: RuntimeWarning: Mean of empty slice\n",
      "/Users/tomconnolly/programs/anaconda/envs/py37/lib/python3.7/site-packages/ipykernel/__main__.py:33: RuntimeWarning: Mean of empty slice\n",
      "/Users/tomconnolly/programs/anaconda/envs/py37/lib/python3.7/site-packages/ipykernel/__main__.py:37: RuntimeWarning: Mean of empty slice\n"
     ]
    }
   ],
   "source": [
    "delta_h_bins = np.arange(-1,2.5,0.1)\n",
    "delta_h_bin_cen = 0.5*(delta_h_bins[:-1]+delta_h_bins[1:])\n",
    "\n",
    "dhdt_mean = np.nan*np.ones(len(delta_h_bin_cen))\n",
    "dhdt_std = np.nan*np.ones(len(delta_h_bin_cen))\n",
    "\n",
    "dhdt_mean_initial = np.nan*np.ones(len(delta_h_bin_cen))\n",
    "dhdt_std_initial = np.nan*np.ones(len(delta_h_bin_cen))\n",
    "\n",
    "dhdt_mean_before = np.nan*np.ones(len(delta_h_bin_cen))\n",
    "dhdt_std_before = np.nan*np.ones(len(delta_h_bin_cen))\n",
    "\n",
    "dhdt_mean_after = np.nan*np.ones(len(delta_h_bin_cen))\n",
    "dhdt_std_after = np.nan*np.ones(len(delta_h_bin_cen))\n",
    "\n",
    "dhdt16_mean = np.nan*np.ones(len(delta_h_bin_cen))\n",
    "dhdt16_std = np.nan*np.ones(len(delta_h_bin_cen))\n",
    "\n",
    "for bini,(lower_bin,upper_bin) in enumerate(zip(delta_h_bins[:-1],delta_h_bins[1:])):\n",
    "    bi, = np.where((df['delta_h']>lower_bin) & (df['delta_h']<upper_bin))\n",
    "    dhdt_mean[bini] = np.nanmean(df['dhdt'][bi])\n",
    "    dhdt_std[bini] = np.nanstd(df['dhdt'][bi])\n",
    "    \n",
    "    bi16, = np.where((d['delta_h']>lower_bin) & (d['delta_h']<upper_bin))\n",
    "    dhdt16_mean[bini] = np.nanmean(d['dhdt'][bi16])\n",
    "    dhdt16_std[bini] = np.nanstd(d['dhdt'][bi16])    \n",
    "\n",
    "    bii, = np.where((df['delta_h'][initiali]>lower_bin) & (df['delta_h'][initiali]<upper_bin))\n",
    "    dhdt_mean_initial[bini] = np.nanmean(df['dhdt'][initiali][bii])\n",
    "    dhdt_std_initial[bini] = np.nanstd(df['dhdt'][initiali][bii])    \n",
    "    \n",
    "    bbi, = np.where((df['delta_h'][beforei]>lower_bin) & (df['delta_h'][beforei]<upper_bin))\n",
    "    dhdt_mean_before[bini] = np.nanmean(df['dhdt'][beforei][bbi])\n",
    "    dhdt_std_before[bini] = np.nanstd(df['dhdt'][beforei][bbi])\n",
    "    \n",
    "    bai, = np.where((df['delta_h'][afteri]>lower_bin) & (df['delta_h'][afteri]<upper_bin))\n",
    "    dhdt_mean_after[bini] = np.nanmean(df['dhdt'][afteri][bai])\n",
    "    dhdt_std_after[bini] = np.nanstd(df['dhdt'][afteri][bai])    "
   ]
  },
  {
   "cell_type": "code",
   "execution_count": 13,
   "metadata": {},
   "outputs": [
    {
     "data": {
      "application/vnd.jupyter.widget-view+json": {
       "model_id": "a76e053fb7da49d4bd1b150ce3f2500b",
       "version_major": 2,
       "version_minor": 0
      },
      "text/plain": [
       "Canvas(toolbar=Toolbar(toolitems=[('Home', 'Reset original view', 'home', 'home'), ('Back', 'Back to previous …"
      ]
     },
     "metadata": {},
     "output_type": "display_data"
    },
    {
     "data": {
      "text/plain": [
       "Text(0.5, 0, '$\\\\Delta h$ [m]')"
      ]
     },
     "execution_count": 13,
     "metadata": {},
     "output_type": "execute_result"
    }
   ],
   "source": [
    "plt.figure()\n",
    "plt.errorbar(delta_h_bin_cen,dhdt_mean*86400,dhdt_std*86400,color='k')\n",
    "plt.ylabel('dh/dt [m/day]')\n",
    "plt.xlabel('$\\Delta h$ [m]')"
   ]
  },
  {
   "cell_type": "code",
   "execution_count": 14,
   "metadata": {},
   "outputs": [
    {
     "data": {
      "application/vnd.jupyter.widget-view+json": {
       "model_id": "0265dd6e84ae406c9306fc8f174c8e74",
       "version_major": 2,
       "version_minor": 0
      },
      "text/plain": [
       "Canvas(toolbar=Toolbar(toolitems=[('Home', 'Reset original view', 'home', 'home'), ('Back', 'Back to previous …"
      ]
     },
     "metadata": {},
     "output_type": "display_data"
    },
    {
     "data": {
      "text/plain": [
       "Text(0.5, 0, '$\\\\Delta h$ [m]')"
      ]
     },
     "execution_count": 14,
     "metadata": {},
     "output_type": "execute_result"
    }
   ],
   "source": [
    "plt.figure()\n",
    "plt.errorbar(delta_h_bin_cen,dhdt_mean_initial*86400,dhdt_std_initial*86400,color='k')\n",
    "plt.ylabel('dh/dt [m/day]')\n",
    "plt.xlabel('$\\Delta h$ [m]')"
   ]
  },
  {
   "cell_type": "code",
   "execution_count": 15,
   "metadata": {},
   "outputs": [
    {
     "data": {
      "application/vnd.jupyter.widget-view+json": {
       "model_id": "a392b6940b7848179129050a1c537c4e",
       "version_major": 2,
       "version_minor": 0
      },
      "text/plain": [
       "Canvas(toolbar=Toolbar(toolitems=[('Home', 'Reset original view', 'home', 'home'), ('Back', 'Back to previous …"
      ]
     },
     "metadata": {},
     "output_type": "display_data"
    },
    {
     "data": {
      "text/plain": [
       "<matplotlib.legend.Legend at 0x1c196b5ba8>"
      ]
     },
     "execution_count": 15,
     "metadata": {},
     "output_type": "execute_result"
    }
   ],
   "source": [
    "plt.figure()\n",
    "plt.errorbar(delta_h_bin_cen,dhdt_mean_before*86400,dhdt_std_before*86400,color='b')\n",
    "plt.errorbar(delta_h_bin_cen,dhdt_mean_after*86400,dhdt_std_after*86400,color='r')\n",
    "plt.ylabel('dh/dt [m/day]')\n",
    "plt.xlabel('$\\Delta h$ [m]')\n",
    "plt.legend(['before','after'])"
   ]
  },
  {
   "cell_type": "code",
   "execution_count": 16,
   "metadata": {},
   "outputs": [
    {
     "data": {
      "application/vnd.jupyter.widget-view+json": {
       "model_id": "6bf3fc09248445f594d6df17f0c1986b",
       "version_major": 2,
       "version_minor": 0
      },
      "text/plain": [
       "Canvas(toolbar=Toolbar(toolitems=[('Home', 'Reset original view', 'home', 'home'), ('Back', 'Back to previous …"
      ]
     },
     "metadata": {},
     "output_type": "display_data"
    },
    {
     "data": {
      "text/plain": [
       "<matplotlib.legend.Legend at 0x1c1973f9e8>"
      ]
     },
     "execution_count": 16,
     "metadata": {},
     "output_type": "execute_result"
    }
   ],
   "source": [
    "idx = initiali\n",
    "\n",
    "# piecewise linear fit\n",
    "ii1, = np.where((df['delta_h'][idx] < -0.25) & \n",
    "                (np.isfinite(df['delta_h'][idx]+df['dhdt'][idx])))\n",
    "lr1 = stats.linregress(df['delta_h'][idx][ii1],df['dhdt'][idx][ii1])\n",
    "\n",
    "ii2, = np.where((df['delta_h'][idx] > -0.25)&(df['delta_h'][idx] < 0) & \n",
    "                (np.isfinite(df['delta_h'][idx]+df['dhdt'][idx])))\n",
    "lr2 = stats.linregress(df['delta_h'][idx][ii2],df['dhdt'][idx][ii2])\n",
    "\n",
    "ii3, = np.where((df['delta_h'][idx] > 0) & (np.isfinite(df['delta_h'][idx]+df['dhdt'][idx])))\n",
    "lr3 = stats.linregress(df['delta_h'][idx][ii3],df['dhdt'][idx][ii3])\n",
    "\n",
    "def square_root(x,a):\n",
    "    y = a*x**0.5\n",
    "    return y\n",
    "\n",
    "#ii0, = np.where((df['delta_h'][idx] <= 0) & \n",
    "#                (np.isfinite(df['delta_h'][idx]+df['dhdt'][idx])))\n",
    "#popt0,pcov0 = curve_fit(square_root, df['delta_h'][idx][ii0], df['dhdt'][idx][ii0])\n",
    "popt3,pcov3 = curve_fit(square_root, df['delta_h'][idx][ii3], df['dhdt'][idx][ii3])\n",
    "#popt3,pcov3 = curve_fit(square_root, df['delta_h'][idx][ii3], df['dhdt'][idx][ii3])\n",
    "\n",
    "\n",
    "plt.figure()\n",
    "plt.plot(df['hocn'][idx]-df['h'][idx],df['dhdt'][idx],'.',color='gray')\n",
    "plt.errorbar(delta_h_bin_cen,dhdt_mean_initial,dhdt_std_initial,color='k')\n",
    "#plt.plot(df['delta_h'][idx][ii1],-0.000015*np.ones(len(df['delta_h'][idx][ii1])),'r-')\n",
    "plt.plot(df['delta_h'][idx][ii1],df['delta_h'][idx][ii1]*lr1[0]+lr1[1],'r-')\n",
    "#plt.plot(df['delta_h'][ii2],df['delta_h'][ii2]*lr2[0]+lr2[1],'r-')\n",
    "plt.plot(df['delta_h'][idx][ii2],(lr1[0]*-0.25+lr1[1])*df['delta_h'][idx][ii2]/-0.25,'r-')\n",
    "#plt.plot(df['delta_h'][idx][ii2],0.000015*df['delta_h'][idx][ii2]/0.25,'r-')\n",
    "#plt.plot(df['delta_h'][ii3],df['delta_h'][ii3]*lr3[0]+lr3[1],'r-')\n",
    "# x0 = np.arange(np.nanmin(df['delta_h']),0,0.05)\n",
    "# plt.plot(x0,-np.abs(x0)**0.5*popt0[0],'r-')\n",
    "x3 = np.arange(0,df['delta_h'].max(),0.05)\n",
    "plt.plot(x3,x3**0.5*popt3[0],'r-')\n",
    "plt.ylabel('dh/dt [m/s]')\n",
    "plt.xlabel('$\\Delta h$ [m]')\n",
    "plt.title('06 Apr - 14 Jun 2015')\n",
    "plt.tight_layout()\n",
    "plt.legend(['data','equations used in model'])\n",
    "\n",
    "\n"
   ]
  },
  {
   "cell_type": "code",
   "execution_count": 17,
   "metadata": {},
   "outputs": [
    {
     "name": "stdout",
     "output_type": "stream",
     "text": [
      "estimated area =  156546.02514001002 m^2\n"
     ]
    },
    {
     "name": "stderr",
     "output_type": "stream",
     "text": [
      "/Users/tomconnolly/programs/anaconda/envs/py37/lib/python3.7/site-packages/ipykernel/__main__.py:1: RuntimeWarning: invalid value encountered in greater\n",
      "  if __name__ == '__main__':\n",
      "/Users/tomconnolly/programs/anaconda/envs/py37/lib/python3.7/site-packages/ipykernel/__main__.py:7: RuntimeWarning: invalid value encountered in less_equal\n",
      "/Users/tomconnolly/programs/anaconda/envs/py37/lib/python3.7/site-packages/ipykernel/__main__.py:7: RuntimeWarning: invalid value encountered in greater_equal\n",
      "/Users/tomconnolly/programs/anaconda/envs/py37/lib/python3.7/site-packages/ipykernel/__main__.py:10: RuntimeWarning: invalid value encountered in less_equal\n",
      "/Users/tomconnolly/programs/anaconda/envs/py37/lib/python3.7/site-packages/scipy/signal/signaltools.py:491: FutureWarning: Using a non-tuple sequence for multidimensional indexing is deprecated; use `arr[tuple(seq)]` instead of `arr[seq]`. In the future this will be interpreted as an array index, `arr[np.array(seq)]`, which will result either in an error or a different result.\n",
      "  return x[reverse].conj()\n",
      "/Users/tomconnolly/programs/anaconda/envs/py37/lib/python3.7/site-packages/scipy/signal/signaltools.py:251: FutureWarning: Using a non-tuple sequence for multidimensional indexing is deprecated; use `arr[tuple(seq)]` instead of `arr[seq]`. In the future this will be interpreted as an array index, `arr[np.array(seq)]`, which will result either in an error or a different result.\n",
      "  in1zpadded[sc] = in1.copy()\n"
     ]
    },
    {
     "data": {
      "application/vnd.jupyter.widget-view+json": {
       "model_id": "00e221f09f8d44e58bc886a23d6c1e05",
       "version_major": 2,
       "version_minor": 0
      },
      "text/plain": [
       "Canvas(toolbar=Toolbar(toolitems=[('Home', 'Reset original view', 'home', 'home'), ('Back', 'Back to previous …"
      ]
     },
     "metadata": {},
     "output_type": "display_data"
    },
    {
     "data": {
      "text/plain": [
       "Text(0.5, 1.0, 'summer 2016')"
      ]
     },
     "execution_count": 17,
     "metadata": {},
     "output_type": "execute_result"
    }
   ],
   "source": [
    "ipos = (d['hocn']-d['h']+0.75 > 0.065) \\\n",
    "        & (np.isfinite(d['hocn']+d['h']+d['Q']+d['dhdt']))\n",
    "lrp = stats.linregress(d['hocn'][ipos]-d['h'][ipos]+0.75,d['Q'][ipos])\n",
    "\n",
    "imid = (d['hocn']-d['h']+0.75 <= 0.065) \\\n",
    "        & (d['hocn']-d['h']+0.75 >= -0.05) \\\n",
    "        & (np.isfinite(d['hocn']+d['h']+d['Q']))\n",
    "lrm = stats.linregress(d['hocn'][imid]-d['h'][imid]+0.75,d['Q'][imid])\n",
    "\n",
    "ineg = (d['hocn']-d['h']+0.75 <= -0.05) & (np.isfinite(d['hocn']+d['h']+d['Q']))\n",
    "mn = np.nanmean(d['Q'][ineg])\n",
    "\n",
    "popt4,pcov4 = curve_fit(square_root, d['delta_h'][ipos], d['dhdt'][ipos])\n",
    "\n",
    "fi, = np.where((np.isfinite(d['Q'])) & (np.isfinite(ts.hanning(d['dhdt'],4)))) \n",
    "slope,intercept,r,p,stderr = stats.linregress(d['Q'][fi],ts.hanning(d['dhdt'],4)[fi])\n",
    "\n",
    "# regression of y on x\n",
    "slopexy,interceptxy,r,p,stderrxy = stats.linregress(ts.hanning(d['dhdt'],4)[fi],d['Q'][fi])\n",
    "slope2 = 1/slopexy\n",
    "intercept2 = interceptxy/slopexy\n",
    "\n",
    "relerr = stderr/slope\n",
    "\n",
    "A = 1/slope\n",
    "print('estimated area = ',A,'m^2')\n",
    "\n",
    "xpos = np.array([0.065,np.nanmax(d['hocn']-d['h']+0.75)])\n",
    "xmid = np.array([-0.05,0.065])\n",
    "xneg = np.array([np.nanmin(d['hocn']-d['h']+0.75),-0.05])\n",
    "\n",
    "plt.figure()\n",
    "plt.plot(d['hocn']-d['h']+0.75,d['dhdt'],'.')\n",
    "#plt.plot(xpos,lrp[0]/A*xpos+lrp[1]/A,'r-',lw=3)\n",
    "plt.plot(xpos,popt4[0]*xpos**0.5,'r-',lw=3)\n",
    "plt.plot(xmid,lrm[0]/A*xmid+lrm[1]/A,'r-',lw=3)\n",
    "plt.plot(xneg,mn/A*np.ones(np.shape(xneg)),'r-',lw=3)\n",
    "plt.xlabel('$\\Delta h$ + constant [m]')\n",
    "plt.ylabel('dh/dt')\n",
    "plt.title('summer 2016')"
   ]
  },
  {
   "cell_type": "code",
   "execution_count": 18,
   "metadata": {},
   "outputs": [
    {
     "data": {
      "application/vnd.jupyter.widget-view+json": {
       "model_id": "8081a285b31f4eee97be9cf98274772c",
       "version_major": 2,
       "version_minor": 0
      },
      "text/plain": [
       "Canvas(toolbar=Toolbar(toolitems=[('Home', 'Reset original view', 'home', 'home'), ('Back', 'Back to previous …"
      ]
     },
     "metadata": {},
     "output_type": "display_data"
    }
   ],
   "source": [
    "plt.figure()\n",
    "plt.plot(df['hocn'][idx]-df['h'][idx],df['dhdt'][idx],'.',color='r')\n",
    "plt.plot(d['hocn']-d['h']+0.75,d['dhdt'],'b.')\n",
    "plt.legend(['summer 2015','summer 2016'])\n",
    "# plt.errorbar(delta_h_bin_cen,dhdt_mean_initial,dhdt_std_initial,color='k')\n",
    "# plt.errorbar(delta_h_bin_cen,dhdt16_mean,dhdt16_std,color='k')\n",
    "plt.plot(df['delta_h'][idx][ii1],df['delta_h'][idx][ii1]*lr1[0]+lr1[1],'k--')\n",
    "plt.plot(df['delta_h'][idx][ii2],(lr1[0]*-0.25+lr1[1])*df['delta_h'][idx][ii2]/-0.25,'k--')\n",
    "#plt.plot(xpos,lrp[0]/A*xpos+lrp[1]/A,'k--',lw=3)\n",
    "plt.plot(xpos,popt4[0]*xpos**0.5,'k-',lw=3)\n",
    "plt.plot(xmid,lrm[0]/A*xmid+lrm[1]/A,'k-',lw=3)\n",
    "plt.plot(xneg,mn/A*np.ones(np.shape(xneg)),'k-',lw=3)\n",
    "x3 = np.arange(0,df['delta_h'].max(),0.05)\n",
    "plt.plot(x3,x3**0.5*popt3[0],'k--')\n",
    "plt.ylabel('dh/dt [m/s]')\n",
    "plt.xlabel('$\\Delta h$ [m]')\n",
    "plt.tight_layout()"
   ]
  },
  {
   "cell_type": "code",
   "execution_count": 19,
   "metadata": {},
   "outputs": [],
   "source": [
    "# time array (in seconds)\n",
    "tstart = np.datetime64('2015-04-01')\n",
    "tend = np.datetime64('2016-05-01')\n",
    "ti, = np.where((tg.index >= tstart) & (tg.index < tend) & np.isfinite(tg['Water Level'])) \n",
    "dtime = tg.index[ti]\n",
    "tocn = np.array(tg.index[ti])\n",
    "hocn = np.array(tg['Water Level'][ti])\n",
    "\n",
    "tnum = (np.array(tocn-tocn[0]))/np.timedelta64(1,'s')\n",
    "t0 = 0\n",
    "tend = tnum[-1] # total time in hocn series (seconds)\n",
    "t = np.arange(t0,tend,3600)\n",
    "\n",
    "#offset = 0.75\n",
    "\n",
    "y0 = 0.4"
   ]
  },
  {
   "cell_type": "code",
   "execution_count": 20,
   "metadata": {},
   "outputs": [],
   "source": [
    "def dhdt(h,t,hocn_vec,tocn_vec,lr1,lr2,popt3):  \n",
    "    # interpolate ocean height to instantaneous time\n",
    "    hocn = np.interp(t,tocn_vec,hocn_vec)    \n",
    "    hdiff = hocn-h\n",
    "    \n",
    "    if hdiff < -0.25:\n",
    "        dhdt = lr1[0]*hdiff+lr1[1]\n",
    "        #dhdt = -0.00002\n",
    "    elif hdiff >= -0.25 and hdiff < 0:\n",
    "        dhdt = (lr1[0]*-0.25+lr1[1])*hdiff/-0.25\n",
    "        #dhdt = -0.00002*hdiff/-0.25\n",
    "    else:\n",
    "        dhdt = popt3[0]*hdiff**0.5\n",
    "\n",
    "    return dhdt\n",
    "\n",
    "hmod = odeint(dhdt, y0, tnum, args=(hocn,tnum,lr1,lr2,popt3))"
   ]
  },
  {
   "cell_type": "code",
   "execution_count": 21,
   "metadata": {},
   "outputs": [],
   "source": [
    "lrp = np.array([ 0.20248563,  0.0300536])\n",
    "lrm = np.array([  9.38771217e+00,  -6.06432704e-01])\n",
    "mn = -1.097548\n",
    "A = 156546.025\n",
    "offset = 0.75\n",
    "\n",
    "# discharge as a function of water level difference between Monterey and M.C.\n",
    "def Qfunc(hdiff):\n",
    "    if hdiff > 0.065:\n",
    "        Qf = A*popt4[0]*hdiff**0.5\n",
    "    elif hdiff <= -0.05:\n",
    "        Qf = mn\n",
    "    else:\n",
    "        Qf = lrm[0]*hdiff+lrm[1]\n",
    "    return Qf\n",
    "\n",
    "def dhdt_b(h,t,A,offset,hocn_vec,tocn_vec,lrp,lrm,mn,Qfunc):  \n",
    "    # interpolate ocean height to instantaneous time\n",
    "    hocn = np.interp(t,tocn_vec,hocn_vec)    \n",
    "    hdiff = hocn-h\n",
    "    \n",
    "    Qf = Qfunc(hdiff)\n",
    "        \n",
    "    dhdt = Qf/A\n",
    "    return dhdt\n",
    "\n",
    "# discharge as a function of water level difference between Monterey and M.C.\n",
    "def Qfunc2(hdiff):\n",
    "    if hdiff > 0.065:\n",
    "        Qf = 0.5*A*popt4[0]*hdiff**0.5\n",
    "    elif hdiff <= -0.05:\n",
    "        Qf = mn\n",
    "    else:\n",
    "        Qf = lrm[0]*hdiff+lrm[1]\n",
    "    return Qf\n",
    "\n",
    "def dhdt_c(h,t,A,offset,hocn_vec,tocn_vec,lrp,lrm,mn,Qfunc):  \n",
    "    # interpolate ocean height to instantaneous time\n",
    "    hocn = np.interp(t,tocn_vec,hocn_vec)    \n",
    "    hdiff = hocn-h\n",
    "    \n",
    "    Qf = Qfunc2(hdiff)\n",
    "        \n",
    "    dhdt = Qf/A\n",
    "    return dhdt\n",
    "\n",
    "hmodb = odeint(dhdt_b, y0, tnum, args=(A,offset,hocn,tnum,lrp,lrm,mn,Qfunc))\n",
    "hmodc = odeint(dhdt_c, y0, tnum, args=(A,offset,hocn,tnum,lrp,lrm,mn,Qfunc2))"
   ]
  },
  {
   "cell_type": "code",
   "execution_count": 22,
   "metadata": {},
   "outputs": [
    {
     "data": {
      "application/vnd.jupyter.widget-view+json": {
       "model_id": "01199859c33045909d9fac236e696b5a",
       "version_major": 2,
       "version_minor": 0
      },
      "text/plain": [
       "Canvas(toolbar=Toolbar(toolitems=[('Home', 'Reset original view', 'home', 'home'), ('Back', 'Back to previous …"
      ]
     },
     "metadata": {},
     "output_type": "display_data"
    },
    {
     "data": {
      "text/plain": [
       "<matplotlib.legend.Legend at 0x1c1a487860>"
      ]
     },
     "execution_count": 22,
     "metadata": {},
     "output_type": "execute_result"
    }
   ],
   "source": [
    "plt.figure()\n",
    "plt.plot(dtime,hmod)\n",
    "plt.plot(dtime,hmodb)\n",
    "plt.plot(dtime,hmodc)\n",
    "plt.plot(df['DateTime'],df['h'],'r-')\n",
    "plt.xticks(rotation=15)\n",
    "plt.title('Moro Cojo water level')\n",
    "plt.ylabel('h [m] NAVD 88')\n",
    "plt.legend(['model A','model B','model C','data'])"
   ]
  },
  {
   "cell_type": "code",
   "execution_count": 23,
   "metadata": {},
   "outputs": [],
   "source": [
    "# time array (in seconds)\n",
    "tstart = np.datetime64('1993-04-15')\n",
    "tend = np.datetime64('1993-07-25')\n",
    "ti, = np.where((tg.index >= tstart) & (tg.index < tend) & np.isfinite(tg['Water Level'])) \n",
    "dtime93 = tg.index[ti]\n",
    "tocn93 = np.array(tg.index[ti])\n",
    "hocn93 = np.array(tg['Water Level'][ti])\n",
    "\n",
    "tnum93 = (np.array(tocn93-tocn93[0]))/np.timedelta64(1,'s')\n",
    "t0 = 0\n",
    "tend93 = tnum93[-1] # total time in hocn series (seconds)\n",
    "t93 = np.arange(t0,tend93,3600)\n",
    "\n",
    "#offset = 0.75\n",
    "\n",
    "y0 = 0.4\n",
    "\n",
    "def dhdt_d(h,t,hocn_vec,tocn_vec,lr1,lr2,popt3):  \n",
    "    # interpolate ocean height to instantaneous time\n",
    "    hocn = np.interp(t,tocn_vec,hocn_vec)    \n",
    "    hdiff = hocn-h\n",
    "    \n",
    "    if hdiff < -0.25:\n",
    "        dhdt = 1*(lr1[0]*hdiff+lr1[1])\n",
    "        #dhdt = -0.000018\n",
    "    elif hdiff >= -0.25 and hdiff < 0:\n",
    "        dhdt = 1*((lr1[0]*-0.25+lr1[1])*hdiff/-0.25)\n",
    "        #dhdt = -0.000018*hdiff/-0.25\n",
    "    else:\n",
    "        dhdt = 0.2*popt3[0]*hdiff**0.5\n",
    "\n",
    "    return dhdt\n",
    "\n",
    "hmod93a = odeint(dhdt, y0, tnum93, args=(hocn,tnum,lr1,lr2,popt3))\n",
    "hmod93b = odeint(dhdt_b, y0, tnum93,  args=(A,offset,hocn,tnum,lrp,lrm,mn,Qfunc))"
   ]
  },
  {
   "cell_type": "code",
   "execution_count": 24,
   "metadata": {},
   "outputs": [],
   "source": [
    "hmod93c = odeint(dhdt_c, y0, tnum93, args=(A,offset,hocn,tnum,lrp,lrm,mn,Qfunc2))\n",
    "hmod93c_sl = odeint(dhdt_c, y0, tnum93, args=(A,offset,hocn+0.5,tnum,lrp,lrm,mn,Qfunc2))\n",
    "#hmod93d = odeint(dhdt_d, y0, tnum, args=(A,offset,hocn,tnum,lrp,lrm,mn,Qfunc2))"
   ]
  },
  {
   "cell_type": "code",
   "execution_count": 25,
   "metadata": {},
   "outputs": [
    {
     "data": {
      "application/vnd.jupyter.widget-view+json": {
       "model_id": "89b7081a1b404077b637c870b9c0fd8f",
       "version_major": 2,
       "version_minor": 0
      },
      "text/plain": [
       "Canvas(toolbar=Toolbar(toolitems=[('Home', 'Reset original view', 'home', 'home'), ('Back', 'Back to previous …"
      ]
     },
     "metadata": {},
     "output_type": "display_data"
    },
    {
     "data": {
      "text/plain": [
       "Text(0, 0.5, 'h [feet]')"
      ]
     },
     "execution_count": 25,
     "metadata": {},
     "output_type": "execute_result"
    }
   ],
   "source": [
    "plt.figure()\n",
    "plt.plot(dtime93,(hmod93a - 0.831)*3.2808)\n",
    "#plt.plot(dtime,(hmod93b - 0.831)*3.2808)\n",
    "plt.plot(dtime93,(hmod93c - 0.831)*3.2808)\n",
    "#plt.plot(dtime,(hmod93c_sl - 0.831)*3.2808)\n",
    "#plt.plot(dtime,(hmod93d - 0.831)*3.2808)\n",
    "#plt.plot(df['DateTime'],df['h'],'r-')\n",
    "plt.xticks(rotation=15)\n",
    "plt.title('modeled Moro Cojo water level - NVGD 29 feet')\n",
    "plt.ylabel('h [feet]')"
   ]
  },
  {
   "cell_type": "code",
   "execution_count": 26,
   "metadata": {},
   "outputs": [
    {
     "data": {
      "application/vnd.jupyter.widget-view+json": {
       "model_id": "c1b371e5895d42169e03f94e4020d5d1",
       "version_major": 2,
       "version_minor": 0
      },
      "text/plain": [
       "Canvas(toolbar=Toolbar(toolitems=[('Home', 'Reset original view', 'home', 'home'), ('Back', 'Back to previous …"
      ]
     },
     "metadata": {},
     "output_type": "display_data"
    },
    {
     "data": {
      "text/plain": [
       "Text(0, 0.5, 'h [m]')"
      ]
     },
     "execution_count": 26,
     "metadata": {},
     "output_type": "execute_result"
    }
   ],
   "source": [
    "plt.figure()\n",
    "plt.plot(dtime93,(hmod93a - 0.831))\n",
    "#plt.plot(dtime,(hmod93b - 0.831)*3.2808)\n",
    "plt.plot(dtime93,(hmod93c - 0.831))\n",
    "#plt.plot(df['DateTime'],df['h'],'r-')\n",
    "plt.xticks(rotation=15)\n",
    "plt.title('modeled Moro Cojo water level - NVGD 29 feet')\n",
    "plt.ylabel('h [m]')"
   ]
  },
  {
   "cell_type": "code",
   "execution_count": 27,
   "metadata": {},
   "outputs": [
    {
     "data": {
      "application/vnd.jupyter.widget-view+json": {
       "model_id": "fb487da64e3748f1b5e731444e8a4c59",
       "version_major": 2,
       "version_minor": 0
      },
      "text/plain": [
       "Canvas(toolbar=Toolbar(toolitems=[('Home', 'Reset original view', 'home', 'home'), ('Back', 'Back to previous …"
      ]
     },
     "metadata": {},
     "output_type": "display_data"
    }
   ],
   "source": [
    "plt.figure()\n",
    "plt.plot(dtime93,(hocn93-0.831)*3.2808,'gray')\n",
    "plt.plot(dtime93,(hmod93a-0.831)*3.2808)\n",
    "plt.plot(dtime93,(hmod93b-0.831)*3.2808)\n",
    "plt.plot(dtime93,(hmod93c-0.831)*3.2808)\n",
    "plt.title('modeled Moro Cojo water level - NVGD 29 feet')\n",
    "plt.ylabel('h [feet]')\n",
    "plt.xticks(rotation=30)\n",
    "plt.xlim([np.datetime64('1993-05-09'),np.datetime64('1993-07-28')])\n",
    "plt.legend(['Monterey tide gauge','Model A - Summer 2015 tide gate',\n",
    "            'Model B - Summer 2016 tide gate',\n",
    "            'Model C - Summer 2016 tide gate with 1/2 inflow'])\n",
    "plt.tight_layout()"
   ]
  },
  {
   "cell_type": "code",
   "execution_count": null,
   "metadata": {},
   "outputs": [],
   "source": []
  }
 ],
 "metadata": {
  "kernelspec": {
   "display_name": "Python [conda env:py37]",
   "language": "python",
   "name": "conda-env-py37-py"
  },
  "language_info": {
   "codemirror_mode": {
    "name": "ipython",
    "version": 3
   },
   "file_extension": ".py",
   "mimetype": "text/x-python",
   "name": "python",
   "nbconvert_exporter": "python",
   "pygments_lexer": "ipython3",
   "version": "3.7.2"
  }
 },
 "nbformat": 4,
 "nbformat_minor": 4
}
