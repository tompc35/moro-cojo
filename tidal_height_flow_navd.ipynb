{
 "cells": [
  {
   "cell_type": "markdown",
   "metadata": {},
   "source": [
    "## Modeling Moro Cojo Slough water levels"
   ]
  },
  {
   "cell_type": "code",
   "execution_count": 1,
   "metadata": {},
   "outputs": [
    {
     "name": "stderr",
     "output_type": "stream",
     "text": [
      "/Users/tomconnolly/programs/anaconda/envs/py37/lib/python3.7/site-packages/ipykernel/__main__.py:54: RuntimeWarning: invalid value encountered in greater\n"
     ]
    }
   ],
   "source": [
    "%matplotlib ipympl\n",
    "import pandas as pd\n",
    "import numpy as np\n",
    "from physoce import tseries as ts\n",
    "from scipy import stats\n",
    "from matplotlib import pyplot as plt\n",
    "from scipy.integrate import odeint\n",
    "\n",
    "### Read in the flow data ###\n",
    "col_names =  ['Sample','year','month','day','hour','minute','second','Stage','Area','Vx','VMean','Flow','Total Volume']\n",
    "\n",
    "flowfile1 = \"Data/ADCPData/ADCP_deployment_6_13_6_16/MC006005.txt\"\n",
    "flowdf1 = pd.read_table(flowfile1,header=18,delim_whitespace=True,usecols=range(13),names=col_names)\n",
    "\n",
    "flowfile2 = \"Data/ADCPData/ADCPdeplyment_6_20_7_7/MC006009.txt\"\n",
    "flowdf2 = pd.read_table(flowfile2,header=18,delim_whitespace=True,usecols=range(13),names=col_names)\n",
    "\n",
    "flowdf1 = flowdf1.set_index(pd.DatetimeIndex(pd.to_datetime(flowdf1[['year','month','day','hour','minute','second']])))\n",
    "flowdf2 = flowdf2.set_index(pd.DatetimeIndex(pd.to_datetime(flowdf2[['year','month','day','hour','minute','second']])))\n",
    "\n",
    "# combine data sets\n",
    "flowdf = flowdf1.append(flowdf2)\n",
    "flowdf = flowdf.resample('15min').mean()\n",
    "\n",
    "### Read in the water level data ###\n",
    "\n",
    "# This is referenced to MLLW, time zone: LST/LDT\n",
    "\n",
    "wlfile1 = 'Data/WaterLevelData/wlJune.txt'\n",
    "wlfile2 = 'Data/WaterLevelData/wlJuly.txt'\n",
    "wldf1 = pd.read_table(wlfile1)\n",
    "wldf2 = pd.read_table(wlfile2)\n",
    "wldf1 = wldf1.set_index(pd.to_datetime(wldf1['Date Time'] + ' ' + wldf1['Date Time.1']))\n",
    "wldf2 = wldf2.set_index(pd.to_datetime(wldf2['Date Time'] + ' ' + wldf2['Date Time.1']))\n",
    "\n",
    "wldf = wldf1.append(wldf2)\n",
    "wldf = wldf.resample('15min').mean()\n",
    "\n",
    "df = pd.concat([wldf, flowdf], axis=1)\n",
    "\n",
    "d = dict()\n",
    "d['dtime'] = np.array(df.index)\n",
    "d['h'] = np.array(df['Stage'])\n",
    "d['hocn'] = np.array(df[' Water Level'])\n",
    "d['Q'] = np.array(df['Flow'])*2 # does Q need to be doubled?\n",
    "\n",
    "dt = np.timedelta64(d['dtime'][1]-d['dtime'][0],'s')\n",
    "d['dt'] = dt/np.timedelta64(1,'s')\n",
    "\n",
    "# despike ADCP stage data\n",
    "hdiff = np.diff(d['h'])\n",
    "hdiffz = (hdiff-np.nanmean(hdiff))/np.nanstd(hdiff)\n",
    "\n",
    "ihspike, = np.where((np.abs(hdiffz[:-1])>3.))\n",
    "ihspike = ihspike+1\n",
    "d['h'][ihspike] = np.nan\n",
    "\n",
    "# water level time derivative\n",
    "d['dhdt'] = np.nan*d['h']\n",
    "d['dhdt'][1:-1] = 0.5*(d['h'][2:]-d['h'][:-2])/d['dt']\n",
    "\n",
    "# running standard deviation (2-day)\n",
    "winlen = int(2*86400/d['dt'])\n",
    "d['hocn_std'] = np.array(df[' Water Level'].rolling(window=winlen).std())"
   ]
  },
  {
   "cell_type": "markdown",
   "metadata": {},
   "source": [
    "### Visual comparison of Moro Cojo and Monterey Bay water levels\n",
    "\n",
    "Summer 2016 - using stage data from the ADCP for water level. "
   ]
  },
  {
   "cell_type": "code",
   "execution_count": 2,
   "metadata": {},
   "outputs": [
    {
     "data": {
      "application/vnd.jupyter.widget-view+json": {
       "model_id": "0f07872d0c204379afcc5b03359ac0f7",
       "version_major": 2,
       "version_minor": 0
      },
      "text/plain": [
       "Canvas(toolbar=Toolbar(toolitems=[('Home', 'Reset original view', 'home', 'home'), ('Back', 'Back to previous …"
      ]
     },
     "metadata": {},
     "output_type": "display_data"
    },
    {
     "data": {
      "text/plain": [
       "(array([736116., 736123., 736130., 736137., 736144., 736146., 736153.,\n",
       "        736160., 736167., 736174., 736177.]),\n",
       " <a list of 11 Text xticklabel objects>)"
      ]
     },
     "execution_count": 2,
     "metadata": {},
     "output_type": "execute_result"
    }
   ],
   "source": [
    "plt.close('all')\n",
    "plt.plot(d['dtime'],d['h'])\n",
    "plt.plot(d['dtime'],d['hocn']+0.75)\n",
    "plt.ylabel('water level [m]')\n",
    "plt.legend(['Moro Cojo','Monterey'])\n",
    "plt.xticks(rotation=15)"
   ]
  },
  {
   "cell_type": "code",
   "execution_count": 3,
   "metadata": {},
   "outputs": [
    {
     "data": {
      "application/vnd.jupyter.widget-view+json": {
       "model_id": "9c7126d739d142708e81d61ac3fd6fea",
       "version_major": 2,
       "version_minor": 0
      },
      "text/plain": [
       "Canvas(toolbar=Toolbar(toolitems=[('Home', 'Reset original view', 'home', 'home'), ('Back', 'Back to previous …"
      ]
     },
     "metadata": {},
     "output_type": "display_data"
    },
    {
     "data": {
      "text/plain": [
       "Text(0.5, 1.0, 'Monterey water level \\n 2 day running standard deviation')"
      ]
     },
     "execution_count": 3,
     "metadata": {},
     "output_type": "execute_result"
    }
   ],
   "source": [
    "plt.figure()\n",
    "plt.plot(d['dtime'],d['hocn_std'])\n",
    "plt.xticks(rotation=15)\n",
    "plt.title('Monterey water level \\n 2 day running standard deviation')"
   ]
  },
  {
   "cell_type": "markdown",
   "metadata": {},
   "source": [
    "### Relationship between flow and water level difference\n",
    "\n",
    "Note: an ad-hoc adjustment of 0.75 m is used to account for the unknown level of the ADCP with respect to a vertical datum. The adjustment is made so that the flow through the culvert is zero when the difference between the ocean and Moro Cojo water levels is zero."
   ]
  },
  {
   "cell_type": "code",
   "execution_count": 4,
   "metadata": {},
   "outputs": [
    {
     "data": {
      "application/vnd.jupyter.widget-view+json": {
       "model_id": "59cec980030548e1b32223b70cd86898",
       "version_major": 2,
       "version_minor": 0
      },
      "text/plain": [
       "Canvas(toolbar=Toolbar(toolitems=[('Home', 'Reset original view', 'home', 'home'), ('Back', 'Back to previous …"
      ]
     },
     "metadata": {},
     "output_type": "display_data"
    },
    {
     "data": {
      "text/plain": [
       "Text(0, 0.5, 'discharge')"
      ]
     },
     "execution_count": 4,
     "metadata": {},
     "output_type": "execute_result"
    }
   ],
   "source": [
    "plt.figure()\n",
    "plt.plot(d['hocn']-d['h']+0.75,d['Q'],'.')\n",
    "plt.xlabel('$\\Delta h$ + constant [m]')\n",
    "plt.ylabel('discharge')"
   ]
  },
  {
   "cell_type": "markdown",
   "metadata": {},
   "source": [
    "### Discharge"
   ]
  },
  {
   "cell_type": "code",
   "execution_count": 16,
   "metadata": {},
   "outputs": [
    {
     "data": {
      "application/vnd.jupyter.widget-view+json": {
       "model_id": "263be61ad7dd46629fa949562202ab70",
       "version_major": 2,
       "version_minor": 0
      },
      "text/plain": [
       "Canvas(toolbar=Toolbar(toolitems=[('Home', 'Reset original view', 'home', 'home'), ('Back', 'Back to previous …"
      ]
     },
     "metadata": {},
     "output_type": "display_data"
    },
    {
     "data": {
      "text/plain": [
       "Text(0, 0.5, 'Q [m$^3$/s]')"
      ]
     },
     "execution_count": 16,
     "metadata": {},
     "output_type": "execute_result"
    }
   ],
   "source": [
    "dnew = dict()\n",
    "dnew['DateTime_LDT'] = d['dtime']\n",
    "dnew['Q'] = d['Q']\n",
    "dnew['Monterey_WaterLevel_NAVD'] = d['hocn']+0.043\n",
    "\n",
    "dfnew = pd.DataFrame.from_dict(dnew)\n",
    "dfnew.to_csv('MontereyWaterLevel_MoroCojoQ.csv')\n",
    "\n",
    "plt.figure()\n",
    "plt.plot(dfnew['Q'])\n",
    "plt.title('discharge')\n",
    "plt.ylabel('Q [m$^3$/s]')"
   ]
  },
  {
   "cell_type": "markdown",
   "metadata": {},
   "source": [
    "### Relationships between flow and water level for summer 2016"
   ]
  },
  {
   "cell_type": "code",
   "execution_count": 6,
   "metadata": {},
   "outputs": [
    {
     "name": "stdout",
     "output_type": "stream",
     "text": [
      "water level > 0.44 m:\n",
      "slope =  0.215\n",
      "intercept =  -0.046\n",
      "-----------------------------\n",
      "0.18 < water level <= 0.44 m:\n",
      "slope =  4.313\n",
      "intercept =  -1.835\n",
      "-----------------------------\n",
      "water level < 0.18 m:\n",
      "mean value =  -1.050\n"
     ]
    },
    {
     "data": {
      "application/vnd.jupyter.widget-view+json": {
       "model_id": "f01195ce3d7146349483b1b080b01514",
       "version_major": 2,
       "version_minor": 0
      },
      "text/plain": [
       "Canvas(toolbar=Toolbar(toolitems=[('Home', 'Reset original view', 'home', 'home'), ('Back', 'Back to previous …"
      ]
     },
     "metadata": {},
     "output_type": "display_data"
    }
   ],
   "source": [
    "ipos = (d['hocn']+0.043 > 0.44) \\\n",
    "        & (np.isfinite(d['hocn']+d['Q']))\n",
    "lrp = stats.linregress(d['hocn'][ipos]+0.043,d['Q'][ipos])\n",
    "\n",
    "imid = (d['hocn']+0.043 <= 0.44) \\\n",
    "        & (d['hocn']+0.043 >= 0.18) \\\n",
    "        & (np.isfinite(d['hocn']+d['Q']))\n",
    "lrm = stats.linregress(d['hocn'][imid]+0.043,d['Q'][imid])\n",
    "\n",
    "ineg = (d['hocn']+0.043 <= 0.18) & (np.isfinite(d['hocn']+d['Q']))\n",
    "mn = np.nanmean(d['Q'][ineg])\n",
    "\n",
    "print('water level > 0.44 m:')\n",
    "print('slope = ',str(lrp[0])[0:5])\n",
    "print('intercept = ',str(lrp[1])[0:6])\n",
    "print('-----------------------------')\n",
    "print('0.18 < water level <= 0.44 m:')\n",
    "print('slope = ',str(lrm[0])[0:5])\n",
    "print('intercept = ',str(lrm[1])[0:6])\n",
    "print('-----------------------------')\n",
    "print('water level < 0.18 m:')\n",
    "print('mean value = ',str(mn)[0:6])\n",
    "\n",
    "plt.figure()\n",
    "plt.plot(d['hocn']+0.043,d['Q'],'.')\n",
    "xpos = np.array([0.44,np.nanmax(d['hocn']+0.043)])\n",
    "xmid = np.array([0.18,0.44])\n",
    "xneg = np.array([np.nanmin(d['hocn']+0.043),0.18])\n",
    "plt.plot(xpos,lrp[0]*xpos+lrp[1],'r-',lw=3)\n",
    "plt.plot(xmid,lrm[0]*xmid+lrm[1],'r-',lw=3)\n",
    "plt.plot(xneg,mn*np.ones(np.shape(xneg)),'r-',lw=3)\n",
    "plt.xlabel('Monterey water level NAVD [m]')\n",
    "plt.ylabel('discharge [m$^3$/s]')\n",
    "plt.savefig('MontereyWaterLevel_MoroCojoQ.pdf')"
   ]
  },
  {
   "cell_type": "markdown",
   "metadata": {},
   "source": [
    "Develop model equations based on the relationship between $Q$ and $\\Delta h$\n",
    "\n",
    "* $Q$ - flow in and out of MC (m$^3$/s, positive into MC)\n",
    "* $\\Delta h$ - water level difference between MC and Monterey Bay\n",
    "\n",
    "For comparison, the inflow is compared to theoretical flow through a 1 ft$^2$ submerged rectangular orifice. \n",
    "\n",
    "$Q = C_d A \\sqrt{2g\\Delta h}$\n",
    "\n",
    "where $C_d$ = 0.61 is an empirically determined constant (uncertain)\n",
    "\n",
    "based on USDA water measurement manual https://www.usbr.gov/tsc/techreferences/mands/wmm"
   ]
  },
  {
   "cell_type": "code",
   "execution_count": 17,
   "metadata": {},
   "outputs": [
    {
     "name": "stderr",
     "output_type": "stream",
     "text": [
      "/Users/tomconnolly/programs/anaconda/envs/py37/lib/python3.7/site-packages/ipykernel/__main__.py:1: RuntimeWarning: invalid value encountered in greater\n",
      "  if __name__ == '__main__':\n",
      "/Users/tomconnolly/programs/anaconda/envs/py37/lib/python3.7/site-packages/ipykernel/__main__.py:7: RuntimeWarning: invalid value encountered in less_equal\n",
      "/Users/tomconnolly/programs/anaconda/envs/py37/lib/python3.7/site-packages/ipykernel/__main__.py:7: RuntimeWarning: invalid value encountered in greater_equal\n",
      "/Users/tomconnolly/programs/anaconda/envs/py37/lib/python3.7/site-packages/ipykernel/__main__.py:10: RuntimeWarning: invalid value encountered in less_equal\n"
     ]
    },
    {
     "data": {
      "application/vnd.jupyter.widget-view+json": {
       "model_id": "9d151bfae65945d09dc25fb620bdb6b0",
       "version_major": 2,
       "version_minor": 0
      },
      "text/plain": [
       "Canvas(toolbar=Toolbar(toolitems=[('Home', 'Reset original view', 'home', 'home'), ('Back', 'Back to previous …"
      ]
     },
     "metadata": {},
     "output_type": "display_data"
    },
    {
     "data": {
      "text/plain": [
       "Text(0, 0.5, 'discharge')"
      ]
     },
     "execution_count": 17,
     "metadata": {},
     "output_type": "execute_result"
    }
   ],
   "source": [
    "ipos = (d['hocn']-d['h']+0.75 > 0.065) \\\n",
    "        & (np.isfinite(d['hocn']+d['h']+d['Q']))\n",
    "lrp = stats.linregress(d['hocn'][ipos]-d['h'][ipos]+0.75,d['Q'][ipos])\n",
    "\n",
    "imid = (d['hocn']-d['h']+0.75 <= 0.065) \\\n",
    "        & (d['hocn']-d['h']+0.75 >= -0.05) \\\n",
    "        & (np.isfinite(d['hocn']+d['h']+d['Q']))\n",
    "lrm = stats.linregress(d['hocn'][imid]-d['h'][imid]+0.75,d['Q'][imid])\n",
    "\n",
    "ineg = (d['hocn']-d['h']+0.75 <= -0.05) & (np.isfinite(d['hocn']+d['h']+d['Q']))\n",
    "mn = np.nanmean(d['Q'][ineg])\n",
    "\n",
    "def Q_rect_orifice(A,deltah):\n",
    "    Cd = 0.61\n",
    "    Q = Cd*A*np.sqrt(2*9.806*deltah)\n",
    "    return Q\n",
    "    \n",
    "plt.figure()\n",
    "plt.plot(d['hocn']-d['h']+0.75,d['Q'],'.')\n",
    "xpos = np.array([0.065,np.nanmax(d['hocn']-d['h']+0.75)])\n",
    "xmid = np.array([-0.05,0.065])\n",
    "xneg = np.array([np.nanmin(d['hocn']-d['h']+0.75),-0.05])\n",
    "plt.plot(xpos,lrp[0]*xpos+lrp[1],'r-',lw=3)\n",
    "plt.plot(xmid,lrm[0]*xmid+lrm[1],'r-',lw=3)\n",
    "plt.plot(xpos,Q_rect_orifice(0.09294,xpos),'k--',lw=3)\n",
    "plt.plot(xneg,mn*np.ones(np.shape(xneg)),'r-',lw=3)\n",
    "plt.xlabel('$\\Delta h$ [m]')\n",
    "plt.ylabel('discharge')"
   ]
  },
  {
   "cell_type": "markdown",
   "metadata": {},
   "source": [
    "Compare water level difference $\\Delta h$ with $dh/dt$"
   ]
  },
  {
   "cell_type": "code",
   "execution_count": 8,
   "metadata": {},
   "outputs": [
    {
     "data": {
      "application/vnd.jupyter.widget-view+json": {
       "model_id": "6066ba61bdff409da6cfc0fb8dce509e",
       "version_major": 2,
       "version_minor": 0
      },
      "text/plain": [
       "Canvas(toolbar=Toolbar(toolitems=[('Home', 'Reset original view', 'home', 'home'), ('Back', 'Back to previous …"
      ]
     },
     "metadata": {},
     "output_type": "display_data"
    },
    {
     "data": {
      "text/plain": [
       "Text(0, 0.5, 'dh/dt')"
      ]
     },
     "execution_count": 8,
     "metadata": {},
     "output_type": "execute_result"
    }
   ],
   "source": [
    "plt.figure()\n",
    "plt.plot(d['hocn']-d['h']+0.75,d['dhdt'],'.')\n",
    "plt.xlabel('$\\Delta h$ + constant [m]')\n",
    "plt.ylabel('dh/dt')"
   ]
  },
  {
   "cell_type": "markdown",
   "metadata": {},
   "source": [
    "The area of the slough can be estimated using the equation $\\frac{dh}{dt} = \\frac{Q}{A}$, assuming the area of the slough does not change with water level. The estimated area based on this regression is 156546 m$^2$, or approximately 30 American football fields."
   ]
  },
  {
   "cell_type": "code",
   "execution_count": 9,
   "metadata": {},
   "outputs": [
    {
     "data": {
      "application/vnd.jupyter.widget-view+json": {
       "model_id": "71d17e198a89410186d865da6293221c",
       "version_major": 2,
       "version_minor": 0
      },
      "text/plain": [
       "Canvas(toolbar=Toolbar(toolitems=[('Home', 'Reset original view', 'home', 'home'), ('Back', 'Back to previous …"
      ]
     },
     "metadata": {},
     "output_type": "display_data"
    },
    {
     "name": "stderr",
     "output_type": "stream",
     "text": [
      "/Users/tomconnolly/programs/anaconda/envs/py37/lib/python3.7/site-packages/scipy/signal/signaltools.py:491: FutureWarning: Using a non-tuple sequence for multidimensional indexing is deprecated; use `arr[tuple(seq)]` instead of `arr[seq]`. In the future this will be interpreted as an array index, `arr[np.array(seq)]`, which will result either in an error or a different result.\n",
      "  return x[reverse].conj()\n",
      "/Users/tomconnolly/programs/anaconda/envs/py37/lib/python3.7/site-packages/scipy/signal/signaltools.py:251: FutureWarning: Using a non-tuple sequence for multidimensional indexing is deprecated; use `arr[tuple(seq)]` instead of `arr[seq]`. In the future this will be interpreted as an array index, `arr[np.array(seq)]`, which will result either in an error or a different result.\n",
      "  in1zpadded[sc] = in1.copy()\n"
     ]
    }
   ],
   "source": [
    "plt.figure()\n",
    "plt.plot(d['Q'],ts.hanning(d['dhdt'],4),'-o')\n",
    "plt.xlabel('Q [m$^3$/s]')\n",
    "plt.ylabel('dh/dt [m/s]')\n",
    "yl = plt.ylim()"
   ]
  },
  {
   "cell_type": "code",
   "execution_count": 10,
   "metadata": {},
   "outputs": [
    {
     "data": {
      "application/vnd.jupyter.widget-view+json": {
       "model_id": "ce20de41485d4427bf9b68d26bd33405",
       "version_major": 2,
       "version_minor": 0
      },
      "text/plain": [
       "Canvas(toolbar=Toolbar(toolitems=[('Home', 'Reset original view', 'home', 'home'), ('Back', 'Back to previous …"
      ]
     },
     "metadata": {},
     "output_type": "display_data"
    },
    {
     "name": "stderr",
     "output_type": "stream",
     "text": [
      "/Users/tomconnolly/programs/anaconda/envs/py37/lib/python3.7/site-packages/scipy/signal/signaltools.py:491: FutureWarning: Using a non-tuple sequence for multidimensional indexing is deprecated; use `arr[tuple(seq)]` instead of `arr[seq]`. In the future this will be interpreted as an array index, `arr[np.array(seq)]`, which will result either in an error or a different result.\n",
      "  return x[reverse].conj()\n",
      "/Users/tomconnolly/programs/anaconda/envs/py37/lib/python3.7/site-packages/scipy/signal/signaltools.py:251: FutureWarning: Using a non-tuple sequence for multidimensional indexing is deprecated; use `arr[tuple(seq)]` instead of `arr[seq]`. In the future this will be interpreted as an array index, `arr[np.array(seq)]`, which will result either in an error or a different result.\n",
      "  in1zpadded[sc] = in1.copy()\n"
     ]
    },
    {
     "data": {
      "text/plain": [
       "Text(0.5, 1.0, 'colors = std($h_{ocn}$) - spring/neap')"
      ]
     },
     "execution_count": 10,
     "metadata": {},
     "output_type": "execute_result"
    }
   ],
   "source": [
    "plt.figure()\n",
    "plt.scatter(d['Q'],ts.hanning(d['dhdt'],4),s=34,c=d['h'])\n",
    "plt.xlabel('Q [m$^3$/s]')\n",
    "plt.ylim(yl)\n",
    "plt.ylabel('dh/dt [m/s]')\n",
    "plt.title('colors = std($h_{ocn}$) - spring/neap')"
   ]
  },
  {
   "cell_type": "markdown",
   "metadata": {},
   "source": [
    "### Regression "
   ]
  },
  {
   "cell_type": "code",
   "execution_count": 11,
   "metadata": {},
   "outputs": [
    {
     "name": "stdout",
     "output_type": "stream",
     "text": [
      "estimated area =  156546.02514001002 m^2\n"
     ]
    },
    {
     "data": {
      "application/vnd.jupyter.widget-view+json": {
       "model_id": "ee457a8011fc4c1dbb5f854869a276c9",
       "version_major": 2,
       "version_minor": 0
      },
      "text/plain": [
       "Canvas(toolbar=Toolbar(toolitems=[('Home', 'Reset original view', 'home', 'home'), ('Back', 'Back to previous …"
      ]
     },
     "metadata": {},
     "output_type": "display_data"
    },
    {
     "name": "stderr",
     "output_type": "stream",
     "text": [
      "/Users/tomconnolly/programs/anaconda/envs/py37/lib/python3.7/site-packages/scipy/signal/signaltools.py:491: FutureWarning: Using a non-tuple sequence for multidimensional indexing is deprecated; use `arr[tuple(seq)]` instead of `arr[seq]`. In the future this will be interpreted as an array index, `arr[np.array(seq)]`, which will result either in an error or a different result.\n",
      "  return x[reverse].conj()\n",
      "/Users/tomconnolly/programs/anaconda/envs/py37/lib/python3.7/site-packages/scipy/signal/signaltools.py:251: FutureWarning: Using a non-tuple sequence for multidimensional indexing is deprecated; use `arr[tuple(seq)]` instead of `arr[seq]`. In the future this will be interpreted as an array index, `arr[np.array(seq)]`, which will result either in an error or a different result.\n",
      "  in1zpadded[sc] = in1.copy()\n"
     ]
    }
   ],
   "source": [
    "fi, = np.where((np.isfinite(d['Q'])) & (np.isfinite(ts.hanning(d['dhdt'],4)))) \n",
    "slope,intercept,r,p,stderr = stats.linregress(d['Q'][fi],ts.hanning(d['dhdt'],4)[fi])\n",
    "\n",
    "# regression of y on x\n",
    "slopexy,interceptxy,r,p,stderrxy = stats.linregress(ts.hanning(d['dhdt'],4)[fi],d['Q'][fi])\n",
    "slope2 = 1/slopexy\n",
    "intercept2 = interceptxy/slopexy\n",
    "\n",
    "A = 1/slope\n",
    "print('estimated area = ',A,'m^2')\n",
    "\n",
    "plt.figure()\n",
    "plt.plot(d['Q'],ts.hanning(d['dhdt'],4),'-o')\n",
    "plt.plot(d['Q'],slope*d['Q']+intercept,'-r',lw=2)\n",
    "#plt.plot(d['Q'],slope2*d['Q']+intercept2,'-r',lw=2)\n",
    "plt.xlabel('Q [m$^3$/s]')\n",
    "plt.ylabel('dh/dt [m/s]')\n",
    "yl = plt.ylim()\n",
    "plt.tight_layout()"
   ]
  },
  {
   "cell_type": "code",
   "execution_count": 12,
   "metadata": {},
   "outputs": [
    {
     "data": {
      "application/vnd.jupyter.widget-view+json": {
       "model_id": "f6adac69173c4983a1d5e20e094ad353",
       "version_major": 2,
       "version_minor": 0
      },
      "text/plain": [
       "Canvas(toolbar=Toolbar(toolitems=[('Home', 'Reset original view', 'home', 'home'), ('Back', 'Back to previous …"
      ]
     },
     "metadata": {},
     "output_type": "display_data"
    },
    {
     "name": "stderr",
     "output_type": "stream",
     "text": [
      "/Users/tomconnolly/programs/anaconda/envs/py37/lib/python3.7/site-packages/scipy/signal/signaltools.py:491: FutureWarning: Using a non-tuple sequence for multidimensional indexing is deprecated; use `arr[tuple(seq)]` instead of `arr[seq]`. In the future this will be interpreted as an array index, `arr[np.array(seq)]`, which will result either in an error or a different result.\n",
      "  return x[reverse].conj()\n",
      "/Users/tomconnolly/programs/anaconda/envs/py37/lib/python3.7/site-packages/scipy/signal/signaltools.py:251: FutureWarning: Using a non-tuple sequence for multidimensional indexing is deprecated; use `arr[tuple(seq)]` instead of `arr[seq]`. In the future this will be interpreted as an array index, `arr[np.array(seq)]`, which will result either in an error or a different result.\n",
      "  in1zpadded[sc] = in1.copy()\n"
     ]
    },
    {
     "data": {
      "text/plain": [
       "(array([736136., 736137., 736138., 736139., 736140., 736141., 736142.,\n",
       "        736143.]), <a list of 8 Text xticklabel objects>)"
      ]
     },
     "execution_count": 12,
     "metadata": {},
     "output_type": "execute_result"
    }
   ],
   "source": [
    "plt.figure()\n",
    "plt.plot(d['dtime'],ts.hanning(d['dhdt'],8))\n",
    "plt.plot(d['dtime'],slope*d['Q']+intercept,'r')\n",
    "plt.xlim([np.datetime64('2016-06-21'),np.datetime64('2016-06-28')])\n",
    "plt.legend(['dh/dt','Q regression'])\n",
    "plt.xticks(rotation=15)"
   ]
  },
  {
   "cell_type": "markdown",
   "metadata": {},
   "source": [
    "### Water level model\n",
    "\n"
   ]
  },
  {
   "cell_type": "code",
   "execution_count": 18,
   "metadata": {},
   "outputs": [
    {
     "data": {
      "application/vnd.jupyter.widget-view+json": {
       "model_id": "8e44e3901e174c7dbb2b71ce08dd6c3c",
       "version_major": 2,
       "version_minor": 0
      },
      "text/plain": [
       "Canvas(toolbar=Toolbar(toolitems=[('Home', 'Reset original view', 'home', 'home'), ('Back', 'Back to previous …"
      ]
     },
     "metadata": {},
     "output_type": "display_data"
    },
    {
     "data": {
      "text/plain": [
       "Text(0, 0.5, 'h [m]')"
      ]
     },
     "execution_count": 18,
     "metadata": {},
     "output_type": "execute_result"
    }
   ],
   "source": [
    "# time array (in seconds)\n",
    "tnum = (d['dtime'].astype('datetime64[s]')-d['dtime'][0].astype('datetime64[s]'))/np.timedelta64(1,'s')\n",
    "t0 = 0\n",
    "tend = tnum[-1] # total time in hocn series (seconds)\n",
    "t = np.arange(t0,tend,3600)\n",
    "\n",
    "offset = 0.75\n",
    "\n",
    "y0 = 1.0\n",
    "\n",
    "# discharge as a function of water level difference between Monterey and M.C.\n",
    "# Uses relationships from piecewise fit between water level difference and flow\n",
    "def Qfunc(hdiff):\n",
    "    if hdiff > 0.065:\n",
    "        Qf = lrp[0]*hdiff+lrp[1]\n",
    "    elif hdiff <= -0.05:\n",
    "        Qf = mn\n",
    "    else:\n",
    "        Qf = lrm[0]*hdiff+lrm[1]\n",
    "    return Qf\n",
    "\n",
    "def dhdt(h,t,A,offset,hocn_vec,tocn_vec,lrp,lrm,mn,Qfunc):  \n",
    "    # interpolate ocean height to instantaneous time\n",
    "    hocn = np.interp(t,tocn_vec,hocn_vec)    \n",
    "    hdiff = hocn-h+offset\n",
    "    \n",
    "    Qf = Qfunc(hdiff)\n",
    "        \n",
    "    dhdt = Qf/A\n",
    "    return dhdt\n",
    "\n",
    "hmod = odeint(dhdt, y0, tnum, args=(A,offset,d['hocn'],tnum,lrp,lrm,mn,Qfunc))\n",
    "\n",
    "plt.figure()\n",
    "plt.plot(d['dtime'],hmod)\n",
    "plt.plot(d['dtime'],d['h'],'r-')\n",
    "plt.xticks(rotation=15)\n",
    "plt.title('Moro Cojo water level')\n",
    "plt.ylabel('h [m]')"
   ]
  },
  {
   "cell_type": "code",
   "execution_count": 14,
   "metadata": {},
   "outputs": [],
   "source": [
    "# hypothetical flow in tide gate failure\n",
    "def Qfunc2(hdiff):\n",
    "    if hdiff > 0.05:\n",
    "        Qf = -mn\n",
    "    elif hdiff <= -0.05:\n",
    "        Qf = mn\n",
    "    else:\n",
    "        Qf = (-mn/0.05)*hdiff\n",
    "    return Qf\n",
    "\n",
    "hmod2,info = odeint(dhdt, y0, tnum, args=(A,offset,d['hocn'],tnum,lrp,lrm,mn,Qfunc2),tcrit=tnum,full_output=True)"
   ]
  },
  {
   "cell_type": "markdown",
   "metadata": {},
   "source": [
    "#### Hypothetical gate failure\n",
    "\n",
    "Allowing the same amount of flow to come into the slough as out. This raises the mean water level, and shifts the timing of the highest water levels to spring tides.\n",
    "\n",
    "An important caveat is that this calculation assumes that the area of the slough does not change as water level rises. This is highly doubtful since we have seen segmentation of the slough and parts of the slough are presumably flushed at very high tides. More data from winter might be able to show nonlinearity in $dh/dt$ vs. $Q$.\n",
    "\n",
    "A more realistic equation would be based on flow through an orifice, in which flow depends on the _square root_ of the pressure difference across the orifice."
   ]
  },
  {
   "cell_type": "code",
   "execution_count": 15,
   "metadata": {},
   "outputs": [
    {
     "data": {
      "application/vnd.jupyter.widget-view+json": {
       "model_id": "eee87681de2c41c6b5d6883ce4a0392f",
       "version_major": 2,
       "version_minor": 0
      },
      "text/plain": [
       "Canvas(toolbar=Toolbar(toolitems=[('Home', 'Reset original view', 'home', 'home'), ('Back', 'Back to previous …"
      ]
     },
     "metadata": {},
     "output_type": "display_data"
    },
    {
     "data": {
      "text/plain": [
       "Text(0, 0.5, 'h [m]')"
      ]
     },
     "execution_count": 15,
     "metadata": {},
     "output_type": "execute_result"
    }
   ],
   "source": [
    "plt.figure()\n",
    "plt.plot(d['dtime'],d['h'],'r')\n",
    "plt.plot(d['dtime'],d['hocn']+offset,'g-')\n",
    "plt.plot(d['dtime'],hmod2)\n",
    "plt.xticks(rotation=15)\n",
    "plt.title('Moro Cojo water level \\n (hypothetical gate failure)')\n",
    "plt.ylabel('h [m]')"
   ]
  },
  {
   "cell_type": "code",
   "execution_count": null,
   "metadata": {
    "collapsed": true,
    "jupyter": {
     "outputs_hidden": true
    }
   },
   "outputs": [],
   "source": []
  }
 ],
 "metadata": {
  "anaconda-cloud": {},
  "kernelspec": {
   "display_name": "Python [conda env:py37]",
   "language": "python",
   "name": "conda-env-py37-py"
  },
  "language_info": {
   "codemirror_mode": {
    "name": "ipython",
    "version": 3
   },
   "file_extension": ".py",
   "mimetype": "text/x-python",
   "name": "python",
   "nbconvert_exporter": "python",
   "pygments_lexer": "ipython3",
   "version": "3.7.2"
  }
 },
 "nbformat": 4,
 "nbformat_minor": 4
}
